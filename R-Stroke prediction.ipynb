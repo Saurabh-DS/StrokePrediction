{
 "cells": [
  {
   "cell_type": "code",
   "execution_count": 12,
   "metadata": {},
   "outputs": [],
   "source": [
    "library(dplyr)\n",
    "library(mice)\n",
    "library(randomForest)\n",
    "library(ineq)\n",
    "library(data.table)\n",
    "library(MLmetrics)\n",
    "library(lightgbm)"
   ]
  },
  {
   "cell_type": "code",
   "execution_count": 31,
   "metadata": {},
   "outputs": [],
   "source": [
    "train <- read.csv(\"train_ajEneEa.csv\")"
   ]
  },
  {
   "cell_type": "code",
   "execution_count": null,
   "metadata": {},
   "outputs": [],
   "source": [
    "train"
   ]
  },
  {
   "cell_type": "code",
   "execution_count": 33,
   "metadata": {},
   "outputs": [
    {
     "name": "stdout",
     "output_type": "stream",
     "text": [
      "'data.frame':\t43400 obs. of  12 variables:\n",
      " $ id               : int  30669 30468 16523 56543 46136 32257 52800 41413 15266 28674 ...\n",
      " $ gender           : Factor w/ 3 levels \"Female\",\"Male\",..: 2 2 1 1 2 1 1 1 1 1 ...\n",
      " $ age              : num  3 58 8 70 14 47 52 75 32 74 ...\n",
      " $ hypertension     : int  0 1 0 0 0 0 0 0 0 1 ...\n",
      " $ heart_disease    : int  0 0 0 0 0 0 0 1 0 0 ...\n",
      " $ ever_married     : Factor w/ 2 levels \"No\",\"Yes\": 1 2 1 2 1 2 2 2 2 2 ...\n",
      " $ work_type        : Factor w/ 5 levels \"children\",\"Govt_job\",..: 1 4 4 4 3 4 4 5 4 5 ...\n",
      " $ Residence_type   : Factor w/ 2 levels \"Rural\",\"Urban\": 1 2 2 1 1 2 2 1 1 2 ...\n",
      " $ avg_glucose_level: num  95.1 88 110.9 69 161.3 ...\n",
      " $ bmi              : num  18 39.2 17.6 35.9 19.1 50.1 17.7 27 32.3 54.6 ...\n",
      " $ smoking_status   : Factor w/ 4 levels \"\",\"formerly smoked\",..: 1 3 1 2 1 1 2 3 4 3 ...\n",
      " $ stroke           : int  0 0 0 0 0 0 0 0 0 0 ...\n"
     ]
    }
   ],
   "source": [
    "str(train)"
   ]
  },
  {
   "cell_type": "code",
   "execution_count": 34,
   "metadata": {},
   "outputs": [
    {
     "data": {
      "text/plain": [
       "       id           gender           age         hypertension    \n",
       " Min.   :    4   Female:12816   Min.   : 0.08   Min.   :0.00000  \n",
       " 1st Qu.:17999   Male  : 8822   1st Qu.:24.00   1st Qu.:0.00000  \n",
       " Median :36544   Other :    6   Median :44.00   Median :0.00000  \n",
       " Mean   :36324                  Mean   :42.19   Mean   :0.09448  \n",
       " 3rd Qu.:54417                  3rd Qu.:60.00   3rd Qu.:0.00000  \n",
       " Max.   :72938                  Max.   :82.00   Max.   :1.00000  \n",
       "                                                                 \n",
       " heart_disease    ever_married         work_type     Residence_type\n",
       " Min.   :0.0000   No : 7757    children     : 3082   Rural:21644   \n",
       " 1st Qu.:0.0000   Yes:13887    Govt_job     : 2714   Urban:    0   \n",
       " Median :0.0000                Never_worked :   84                 \n",
       " Mean   :0.0481                Private      :12320                 \n",
       " 3rd Qu.:0.0000                Self-employed: 3444                 \n",
       " Max.   :1.0000                                                    \n",
       "                                                                   \n",
       " avg_glucose_level      bmi                smoking_status     stroke       \n",
       " Min.   : 55.01    Min.   :10.10                  :6662   Min.   :0.00000  \n",
       " 1st Qu.: 77.59    1st Qu.:23.30   formerly smoked:3772   1st Qu.:0.00000  \n",
       " Median : 91.69    Median :27.80   never smoked   :8005   Median :0.00000  \n",
       " Mean   :104.48    Mean   :28.63   smokes         :3205   Mean   :0.01774  \n",
       " 3rd Qu.:112.18    3rd Qu.:32.90                          3rd Qu.:0.00000  \n",
       " Max.   :291.05    Max.   :97.60                          Max.   :1.00000  \n",
       "                   NA's   :710                                             "
      ]
     },
     "metadata": {},
     "output_type": "display_data"
    }
   ],
   "source": [
    "summary(train[train$Residence_type == 'Rural',])"
   ]
  },
  {
   "cell_type": "code",
   "execution_count": 35,
   "metadata": {},
   "outputs": [
    {
     "data": {
      "text/plain": [
       "       id           gender           age         hypertension    \n",
       " Min.   :    1   Female:12849   Min.   : 0.08   Min.   :0.00000  \n",
       " 1st Qu.:18055   Male  : 8902   1st Qu.:24.00   1st Qu.:0.00000  \n",
       " Median :36129   Other :    5   Median :44.00   Median :0.00000  \n",
       " Mean   :36329                  Mean   :42.25   Mean   :0.09266  \n",
       " 3rd Qu.:54615                  3rd Qu.:60.00   3rd Qu.:0.00000  \n",
       " Max.   :72943                  Max.   :82.00   Max.   :1.00000  \n",
       "                                                                 \n",
       " heart_disease     ever_married         work_type     Residence_type\n",
       " Min.   :0.00000   No : 7705    children     : 3074   Rural:    0   \n",
       " 1st Qu.:0.00000   Yes:14051    Govt_job     : 2726   Urban:21756   \n",
       " Median :0.00000                Never_worked :   93                 \n",
       " Mean   :0.04693                Private      :12514                 \n",
       " 3rd Qu.:0.00000                Self-employed: 3349                 \n",
       " Max.   :1.00000                                                    \n",
       "                                                                    \n",
       " avg_glucose_level      bmi                smoking_status     stroke       \n",
       " Min.   : 55.00    Min.   :10.30                  :6630   Min.   :0.00000  \n",
       " 1st Qu.: 77.49    1st Qu.:23.20   formerly smoked:3721   1st Qu.:0.00000  \n",
       " Median : 91.50    Median :27.70   never smoked   :8048   Median :0.00000  \n",
       " Mean   :104.48    Mean   :28.58   smokes         :3357   Mean   :0.01834  \n",
       " 3rd Qu.:111.90    3rd Qu.:32.80                          3rd Qu.:0.00000  \n",
       " Max.   :281.59    Max.   :96.10                          Max.   :1.00000  \n",
       "                   NA's   :752                                             "
      ]
     },
     "metadata": {},
     "output_type": "display_data"
    }
   ],
   "source": [
    "summary(train[train$Residence_type == 'Urban',])"
   ]
  },
  {
   "cell_type": "code",
   "execution_count": 36,
   "metadata": {},
   "outputs": [],
   "source": [
    "library(dplyr)"
   ]
  },
  {
   "cell_type": "code",
   "execution_count": 37,
   "metadata": {},
   "outputs": [],
   "source": [
    "trainWoNULL <- NULL\n",
    "trainWoNULL <- train %>% replace(. ==\"\", NA)"
   ]
  },
  {
   "cell_type": "code",
   "execution_count": 38,
   "metadata": {},
   "outputs": [
    {
     "data": {
      "text/plain": [
       "       id           gender           age         hypertension    \n",
       " Min.   :    1   Female:25665   Min.   : 0.08   Min.   :0.00000  \n",
       " 1st Qu.:18039   Male  :17724   1st Qu.:24.00   1st Qu.:0.00000  \n",
       " Median :36352   Other :   11   Median :44.00   Median :0.00000  \n",
       " Mean   :36326                  Mean   :42.22   Mean   :0.09357  \n",
       " 3rd Qu.:54514                  3rd Qu.:60.00   3rd Qu.:0.00000  \n",
       " Max.   :72943                  Max.   :82.00   Max.   :1.00000  \n",
       "                                                                 \n",
       " heart_disease     ever_married         work_type     Residence_type\n",
       " Min.   :0.00000   No :15462    children     : 6156   Rural:21644   \n",
       " 1st Qu.:0.00000   Yes:27938    Govt_job     : 5440   Urban:21756   \n",
       " Median :0.00000                Never_worked :  177                 \n",
       " Mean   :0.04751                Private      :24834                 \n",
       " 3rd Qu.:0.00000                Self-employed: 6793                 \n",
       " Max.   :1.00000                                                    \n",
       "                                                                    \n",
       " avg_glucose_level      bmi                smoking_status      stroke       \n",
       " Min.   : 55.00    Min.   :10.10                  :    0   Min.   :0.00000  \n",
       " 1st Qu.: 77.54    1st Qu.:23.20   formerly smoked: 7493   1st Qu.:0.00000  \n",
       " Median : 91.58    Median :27.70   never smoked   :16053   Median :0.00000  \n",
       " Mean   :104.48    Mean   :28.61   smokes         : 6562   Mean   :0.01804  \n",
       " 3rd Qu.:112.07    3rd Qu.:32.90   NA's           :13292   3rd Qu.:0.00000  \n",
       " Max.   :291.05    Max.   :97.60                           Max.   :1.00000  \n",
       "                   NA's   :1462                                             "
      ]
     },
     "metadata": {},
     "output_type": "display_data"
    }
   ],
   "source": [
    "summary(trainWoNULL)"
   ]
  },
  {
   "cell_type": "code",
   "execution_count": 39,
   "metadata": {},
   "outputs": [],
   "source": [
    "write.csv(trainWoNULL,\"trainWoNULL.csv\")"
   ]
  },
  {
   "cell_type": "code",
   "execution_count": 40,
   "metadata": {},
   "outputs": [],
   "source": [
    "traindf <- read.csv(\"trainWoNULL.csv\")"
   ]
  },
  {
   "cell_type": "code",
   "execution_count": 41,
   "metadata": {},
   "outputs": [
    {
     "data": {
      "text/plain": [
       "       X               id           gender           age       \n",
       " Min.   :    1   Min.   :    1   Female:25665   Min.   : 0.08  \n",
       " 1st Qu.:10851   1st Qu.:18039   Male  :17724   1st Qu.:24.00  \n",
       " Median :21701   Median :36352   Other :   11   Median :44.00  \n",
       " Mean   :21701   Mean   :36326                  Mean   :42.22  \n",
       " 3rd Qu.:32550   3rd Qu.:54514                  3rd Qu.:60.00  \n",
       " Max.   :43400   Max.   :72943                  Max.   :82.00  \n",
       "                                                               \n",
       "  hypertension     heart_disease     ever_married         work_type    \n",
       " Min.   :0.00000   Min.   :0.00000   No :15462    children     : 6156  \n",
       " 1st Qu.:0.00000   1st Qu.:0.00000   Yes:27938    Govt_job     : 5440  \n",
       " Median :0.00000   Median :0.00000                Never_worked :  177  \n",
       " Mean   :0.09357   Mean   :0.04751                Private      :24834  \n",
       " 3rd Qu.:0.00000   3rd Qu.:0.00000                Self-employed: 6793  \n",
       " Max.   :1.00000   Max.   :1.00000                                     \n",
       "                                                                       \n",
       " Residence_type avg_glucose_level      bmi                smoking_status \n",
       " Rural:21644    Min.   : 55.00    Min.   :10.10   formerly smoked: 7493  \n",
       " Urban:21756    1st Qu.: 77.54    1st Qu.:23.20   never smoked   :16053  \n",
       "                Median : 91.58    Median :27.70   smokes         : 6562  \n",
       "                Mean   :104.48    Mean   :28.61   NA's           :13292  \n",
       "                3rd Qu.:112.07    3rd Qu.:32.90                          \n",
       "                Max.   :291.05    Max.   :97.60                          \n",
       "                                  NA's   :1462                           \n",
       "     stroke       \n",
       " Min.   :0.00000  \n",
       " 1st Qu.:0.00000  \n",
       " Median :0.00000  \n",
       " Mean   :0.01804  \n",
       " 3rd Qu.:0.00000  \n",
       " Max.   :1.00000  \n",
       "                  "
      ]
     },
     "metadata": {},
     "output_type": "display_data"
    }
   ],
   "source": [
    "summary(traindf)"
   ]
  },
  {
   "cell_type": "code",
   "execution_count": 42,
   "metadata": {},
   "outputs": [],
   "source": [
    "library(mice)"
   ]
  },
  {
   "cell_type": "code",
   "execution_count": 43,
   "metadata": {},
   "outputs": [
    {
     "name": "stdout",
     "output_type": "stream",
     "text": [
      "\n",
      " iter imp variable\n",
      "  1   1  bmi  smoking_status"
     ]
    }
   ],
   "source": [
    "miceMod <- mice(traindf[, !names(traindf) %in% \"stroke\"], method=\"rf\")  # perform mice imputation, based on random forests."
   ]
  },
  {
   "cell_type": "code",
   "execution_count": 44,
   "metadata": {},
   "outputs": [
    {
     "ename": "ERROR",
     "evalue": "Error in complete(miceMod): object 'miceMod' not found\n",
     "output_type": "error",
     "traceback": [
      "Error in complete(miceMod): object 'miceMod' not found\nTraceback:\n",
      "1. complete(miceMod)"
     ]
    }
   ],
   "source": [
    "miceOutput <- complete(miceMod)  # generate the completed data."
   ]
  },
  {
   "cell_type": "code",
   "execution_count": null,
   "metadata": {},
   "outputs": [],
   "source": [
    "anyNA(miceOutput)"
   ]
  },
  {
   "cell_type": "code",
   "execution_count": null,
   "metadata": {},
   "outputs": [],
   "source": [
    "View(miceOutput)"
   ]
  },
  {
   "cell_type": "code",
   "execution_count": null,
   "metadata": {},
   "outputs": [],
   "source": [
    "miceOutput1 <- miceOutput[c(2,11,12)]"
   ]
  },
  {
   "cell_type": "code",
   "execution_count": null,
   "metadata": {},
   "outputs": [],
   "source": [
    "traindfnew <- traindf[,-c(11,12)]\n",
    "View(traindfnew)"
   ]
  },
  {
   "cell_type": "code",
   "execution_count": null,
   "metadata": {},
   "outputs": [],
   "source": [
    "traindfFinal <- merge(traindfnew,miceOutput1,by=\"id\")\n",
    "View(traindfFinal)"
   ]
  },
  {
   "cell_type": "code",
   "execution_count": null,
   "metadata": {},
   "outputs": [],
   "source": []
  },
  {
   "cell_type": "code",
   "execution_count": null,
   "metadata": {},
   "outputs": [],
   "source": []
  },
  {
   "cell_type": "code",
   "execution_count": null,
   "metadata": {},
   "outputs": [],
   "source": []
  },
  {
   "cell_type": "code",
   "execution_count": null,
   "metadata": {},
   "outputs": [],
   "source": []
  }
 ],
 "metadata": {
  "kernelspec": {
   "display_name": "R",
   "language": "R",
   "name": "ir"
  },
  "language_info": {
   "codemirror_mode": "r",
   "file_extension": ".r",
   "mimetype": "text/x-r-source",
   "name": "R",
   "pygments_lexer": "r",
   "version": "3.6.1"
  },
  "toc": {
   "base_numbering": 1,
   "nav_menu": {},
   "number_sections": true,
   "sideBar": true,
   "skip_h1_title": false,
   "title_cell": "Table of Contents",
   "title_sidebar": "Contents",
   "toc_cell": false,
   "toc_position": {},
   "toc_section_display": true,
   "toc_window_display": false
  }
 },
 "nbformat": 4,
 "nbformat_minor": 2
}
