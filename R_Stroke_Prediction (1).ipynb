{
  "nbformat": 4,
  "nbformat_minor": 0,
  "metadata": {
    "colab": {
      "name": "R-Stroke Prediction.ipynb",
      "provenance": [],
      "collapsed_sections": []
    },
    "kernelspec": {
      "name": "ir",
      "display_name": "R"
    },
    "accelerator": "TPU"
  },
  "cells": [
    {
      "cell_type": "code",
      "metadata": {
        "id": "6wZhkQ72laUp",
        "colab": {
          "base_uri": "https://localhost:8080/",
          "height": 68
        },
        "outputId": "788c515b-bee2-4ccb-b218-a55b53dab6f1"
      },
      "source": [
        "install.packages('dplyr')"
      ],
      "execution_count": null,
      "outputs": [
        {
          "output_type": "stream",
          "text": [
            "Installing package into ‘/usr/local/lib/R/site-library’\n",
            "(as ‘lib’ is unspecified)\n",
            "\n"
          ],
          "name": "stderr"
        }
      ]
    },
    {
      "cell_type": "code",
      "metadata": {
        "id": "-crXKIOplaui"
      },
      "source": [
        "library(dplyr)"
      ],
      "execution_count": null,
      "outputs": []
    },
    {
      "cell_type": "code",
      "metadata": {
        "id": "7mMmIrc8lawM",
        "colab": {
          "base_uri": "https://localhost:8080/",
          "height": 68
        },
        "outputId": "9eb24361-3512-46d0-cd1c-57a111070304"
      },
      "source": [
        "install.packages('caret')"
      ],
      "execution_count": null,
      "outputs": [
        {
          "output_type": "stream",
          "text": [
            "Installing package into ‘/usr/local/lib/R/site-library’\n",
            "(as ‘lib’ is unspecified)\n",
            "\n"
          ],
          "name": "stderr"
        }
      ]
    },
    {
      "cell_type": "code",
      "metadata": {
        "id": "rpQXPSoflaxL"
      },
      "source": [
        "library(caret)"
      ],
      "execution_count": null,
      "outputs": []
    },
    {
      "cell_type": "code",
      "metadata": {
        "id": "5AP_SEvRE0zz",
        "colab": {
          "base_uri": "https://localhost:8080/",
          "height": 68
        },
        "outputId": "4b6a8aa5-87f1-4ad8-d931-e2f89845445c"
      },
      "source": [
        "\n",
        "install.packages('ROSE')"
      ],
      "execution_count": null,
      "outputs": [
        {
          "output_type": "stream",
          "text": [
            "Installing package into ‘/usr/local/lib/R/site-library’\n",
            "(as ‘lib’ is unspecified)\n",
            "\n"
          ],
          "name": "stderr"
        }
      ]
    },
    {
      "cell_type": "code",
      "metadata": {
        "id": "TzTBrbkxE765",
        "colab": {
          "base_uri": "https://localhost:8080/",
          "height": 68
        },
        "outputId": "6c120b51-4a38-4762-a9a0-b30aa87159fc"
      },
      "source": [
        "library('ROSE')"
      ],
      "execution_count": null,
      "outputs": [
        {
          "output_type": "stream",
          "text": [
            "Loaded ROSE 0.0-3\n",
            "\n",
            "\n"
          ],
          "name": "stderr"
        }
      ]
    },
    {
      "cell_type": "code",
      "metadata": {
        "id": "xh3p86SRlayI",
        "colab": {
          "base_uri": "https://localhost:8080/",
          "height": 68
        },
        "outputId": "eaae261f-4638-4933-94d0-9cf06f41ac18"
      },
      "source": [
        "install.packages('ROCR')"
      ],
      "execution_count": null,
      "outputs": [
        {
          "output_type": "stream",
          "text": [
            "Installing package into ‘/usr/local/lib/R/site-library’\n",
            "(as ‘lib’ is unspecified)\n",
            "\n"
          ],
          "name": "stderr"
        }
      ]
    },
    {
      "cell_type": "code",
      "metadata": {
        "id": "TY8TAplilazE"
      },
      "source": [
        "library(ROCR)"
      ],
      "execution_count": null,
      "outputs": []
    },
    {
      "cell_type": "code",
      "metadata": {
        "id": "x65MEgUFla5g",
        "colab": {
          "base_uri": "https://localhost:8080/",
          "height": 68
        },
        "outputId": "c040a0ec-b58d-4e80-8c87-d045816a1c30"
      },
      "source": [
        "install.packages('mlbench')"
      ],
      "execution_count": null,
      "outputs": [
        {
          "output_type": "stream",
          "text": [
            "Installing package into ‘/usr/local/lib/R/site-library’\n",
            "(as ‘lib’ is unspecified)\n",
            "\n"
          ],
          "name": "stderr"
        }
      ]
    },
    {
      "cell_type": "code",
      "metadata": {
        "id": "cEHjPbjxla7G"
      },
      "source": [
        "library(mlbench)"
      ],
      "execution_count": null,
      "outputs": []
    },
    {
      "cell_type": "code",
      "metadata": {
        "id": "s3mCarlala8Q",
        "colab": {
          "base_uri": "https://localhost:8080/",
          "height": 68
        },
        "outputId": "704b9ea1-02db-4336-f887-11f2a4fab042"
      },
      "source": [
        "install.packages('Hmisc')"
      ],
      "execution_count": null,
      "outputs": [
        {
          "output_type": "stream",
          "text": [
            "Installing package into ‘/usr/local/lib/R/site-library’\n",
            "(as ‘lib’ is unspecified)\n",
            "\n"
          ],
          "name": "stderr"
        }
      ]
    },
    {
      "cell_type": "code",
      "metadata": {
        "id": "aJJ_F4eela-Y"
      },
      "source": [
        "library(Hmisc)"
      ],
      "execution_count": null,
      "outputs": []
    },
    {
      "cell_type": "code",
      "metadata": {
        "id": "B5DR4PhGla_O",
        "colab": {
          "base_uri": "https://localhost:8080/",
          "height": 68
        },
        "outputId": "6361a2d2-3957-4d1d-aaa0-21861e7e1e51"
      },
      "source": [
        "install.packages('randomForest')"
      ],
      "execution_count": null,
      "outputs": [
        {
          "output_type": "stream",
          "text": [
            "Installing package into ‘/usr/local/lib/R/site-library’\n",
            "(as ‘lib’ is unspecified)\n",
            "\n"
          ],
          "name": "stderr"
        }
      ]
    },
    {
      "cell_type": "code",
      "metadata": {
        "id": "B2FGaEpplbAa"
      },
      "source": [
        "library(randomForest)"
      ],
      "execution_count": null,
      "outputs": []
    },
    {
      "cell_type": "code",
      "metadata": {
        "id": "Z6ED4xCLlbEd",
        "colab": {
          "base_uri": "https://localhost:8080/",
          "height": 68
        },
        "outputId": "032b1b5d-9c87-4ecc-a10c-490937aa5caf"
      },
      "source": [
        "install.packages('Information')"
      ],
      "execution_count": null,
      "outputs": [
        {
          "output_type": "stream",
          "text": [
            "Installing package into ‘/usr/local/lib/R/site-library’\n",
            "(as ‘lib’ is unspecified)\n",
            "\n"
          ],
          "name": "stderr"
        }
      ]
    },
    {
      "cell_type": "code",
      "metadata": {
        "id": "Ovd7b5xwlbUi"
      },
      "source": [
        "library(Information)"
      ],
      "execution_count": null,
      "outputs": []
    },
    {
      "cell_type": "code",
      "metadata": {
        "id": "CwHIgNq1nt6B",
        "colab": {
          "base_uri": "https://localhost:8080/",
          "height": 68
        },
        "outputId": "c8c34064-d5ee-4af5-c28c-6bdf2b88fcdd"
      },
      "source": [
        "install.packages('rpart')"
      ],
      "execution_count": null,
      "outputs": [
        {
          "output_type": "stream",
          "text": [
            "Installing package into ‘/usr/local/lib/R/site-library’\n",
            "(as ‘lib’ is unspecified)\n",
            "\n"
          ],
          "name": "stderr"
        }
      ]
    },
    {
      "cell_type": "code",
      "metadata": {
        "id": "GPZoi1bfnueT"
      },
      "source": [
        "library(rpart)"
      ],
      "execution_count": null,
      "outputs": []
    },
    {
      "cell_type": "code",
      "metadata": {
        "id": "O9MAJGnlxaRK",
        "colab": {
          "base_uri": "https://localhost:8080/",
          "height": 68
        },
        "outputId": "6f4f3a4a-55ed-4da8-d27d-0d9387d25fdc"
      },
      "source": [
        "install.packages('e1071')"
      ],
      "execution_count": null,
      "outputs": [
        {
          "output_type": "stream",
          "text": [
            "Installing package into ‘/usr/local/lib/R/site-library’\n",
            "(as ‘lib’ is unspecified)\n",
            "\n"
          ],
          "name": "stderr"
        }
      ]
    },
    {
      "cell_type": "code",
      "metadata": {
        "id": "PcYDBXHBxhNE"
      },
      "source": [
        "library(e1071)"
      ],
      "execution_count": null,
      "outputs": []
    },
    {
      "cell_type": "code",
      "metadata": {
        "id": "a86ZJQgSCcXH",
        "colab": {
          "base_uri": "https://localhost:8080/",
          "height": 68
        },
        "outputId": "afc37e36-2aac-4bb1-b379-4b43ef17eeeb"
      },
      "source": [
        "install.packages('ggplot2')"
      ],
      "execution_count": null,
      "outputs": [
        {
          "output_type": "stream",
          "text": [
            "Installing package into ‘/usr/local/lib/R/site-library’\n",
            "(as ‘lib’ is unspecified)\n",
            "\n"
          ],
          "name": "stderr"
        }
      ]
    },
    {
      "cell_type": "code",
      "metadata": {
        "id": "nDtABy3YCa0L"
      },
      "source": [
        "library(ggplot2)"
      ],
      "execution_count": null,
      "outputs": []
    },
    {
      "cell_type": "code",
      "metadata": {
        "id": "HWfa_vpGCa5s",
        "colab": {
          "base_uri": "https://localhost:8080/",
          "height": 68
        },
        "outputId": "74694a2c-0def-40b2-a323-df988f720917"
      },
      "source": [
        "install.packages('rpart.plot')"
      ],
      "execution_count": null,
      "outputs": [
        {
          "output_type": "stream",
          "text": [
            "Installing package into ‘/usr/local/lib/R/site-library’\n",
            "(as ‘lib’ is unspecified)\n",
            "\n"
          ],
          "name": "stderr"
        }
      ]
    },
    {
      "cell_type": "code",
      "metadata": {
        "id": "3uUOmnEMCh0z"
      },
      "source": [
        "library(rpart.plot)"
      ],
      "execution_count": null,
      "outputs": []
    },
    {
      "cell_type": "code",
      "metadata": {
        "id": "L5uBGM5mCh7x",
        "colab": {
          "base_uri": "https://localhost:8080/",
          "height": 68
        },
        "outputId": "93197389-6213-4e09-bf6f-51499db994d3"
      },
      "source": [
        "install.packages('maptree')"
      ],
      "execution_count": null,
      "outputs": [
        {
          "output_type": "stream",
          "text": [
            "Installing package into ‘/usr/local/lib/R/site-library’\n",
            "(as ‘lib’ is unspecified)\n",
            "\n"
          ],
          "name": "stderr"
        }
      ]
    },
    {
      "cell_type": "code",
      "metadata": {
        "id": "rbtmyjlBCiYc"
      },
      "source": [
        "library(maptree)"
      ],
      "execution_count": null,
      "outputs": []
    },
    {
      "cell_type": "code",
      "metadata": {
        "id": "Ka6WV-tdCne7",
        "colab": {
          "base_uri": "https://localhost:8080/",
          "height": 68
        },
        "outputId": "27a10a2e-5e18-4bd5-e366-54220da741ac"
      },
      "source": [
        "install.packages('partykit')"
      ],
      "execution_count": null,
      "outputs": [
        {
          "output_type": "stream",
          "text": [
            "Installing package into ‘/usr/local/lib/R/site-library’\n",
            "(as ‘lib’ is unspecified)\n",
            "\n"
          ],
          "name": "stderr"
        }
      ]
    },
    {
      "cell_type": "code",
      "metadata": {
        "id": "AG_7uiZxCnmo"
      },
      "source": [
        "library(partykit)"
      ],
      "execution_count": null,
      "outputs": []
    },
    {
      "cell_type": "code",
      "metadata": {
        "id": "1NtzB376J26s",
        "colab": {
          "base_uri": "https://localhost:8080/",
          "height": 68
        },
        "outputId": "8be406e1-5e7a-4270-c77a-9dfd608dbb92"
      },
      "source": [
        "install.packages('Metrics')"
      ],
      "execution_count": null,
      "outputs": [
        {
          "output_type": "stream",
          "text": [
            "Installing package into ‘/usr/local/lib/R/site-library’\n",
            "(as ‘lib’ is unspecified)\n",
            "\n"
          ],
          "name": "stderr"
        }
      ]
    },
    {
      "cell_type": "code",
      "metadata": {
        "id": "J7hisfF7J9J3"
      },
      "source": [
        "library(Metrics)"
      ],
      "execution_count": null,
      "outputs": []
    },
    {
      "cell_type": "code",
      "metadata": {
        "id": "E3Q_S_ryKzdX",
        "colab": {
          "base_uri": "https://localhost:8080/",
          "height": 68
        },
        "outputId": "e895148d-5d76-4851-8a27-5eec70d3d9b9"
      },
      "source": [
        "install.packages('MLmetrics')"
      ],
      "execution_count": null,
      "outputs": [
        {
          "output_type": "stream",
          "text": [
            "Installing package into ‘/usr/local/lib/R/site-library’\n",
            "(as ‘lib’ is unspecified)\n",
            "\n"
          ],
          "name": "stderr"
        }
      ]
    },
    {
      "cell_type": "code",
      "metadata": {
        "id": "QXfNAdtpK4WZ"
      },
      "source": [
        "library(MLmetrics)"
      ],
      "execution_count": null,
      "outputs": []
    },
    {
      "cell_type": "code",
      "metadata": {
        "id": "nFTfKFnQLqEt",
        "colab": {
          "base_uri": "https://localhost:8080/",
          "height": 68
        },
        "outputId": "e57f1ea1-7c77-47c9-a7f2-8ed8ae658e56"
      },
      "source": [
        "install.packages('pROC')"
      ],
      "execution_count": null,
      "outputs": [
        {
          "output_type": "stream",
          "text": [
            "Installing package into ‘/usr/local/lib/R/site-library’\n",
            "(as ‘lib’ is unspecified)\n",
            "\n"
          ],
          "name": "stderr"
        }
      ]
    },
    {
      "cell_type": "code",
      "metadata": {
        "id": "3KuFWRzsLqLX"
      },
      "source": [
        "library(pROC)"
      ],
      "execution_count": null,
      "outputs": []
    },
    {
      "cell_type": "code",
      "metadata": {
        "id": "0HmPBtZLrU4F",
        "colab": {
          "base_uri": "https://localhost:8080/",
          "height": 68
        },
        "outputId": "f92bee57-6a62-48df-b22b-01255adf7e4c"
      },
      "source": [
        "install.packages('caTools')"
      ],
      "execution_count": null,
      "outputs": [
        {
          "output_type": "stream",
          "text": [
            "Installing package into ‘/usr/local/lib/R/site-library’\n",
            "(as ‘lib’ is unspecified)\n",
            "\n"
          ],
          "name": "stderr"
        }
      ]
    },
    {
      "cell_type": "code",
      "metadata": {
        "id": "sY3dpLs_yjU-"
      },
      "source": [
        "library(caTools)"
      ],
      "execution_count": null,
      "outputs": []
    },
    {
      "cell_type": "code",
      "metadata": {
        "id": "pqRcrmvxDnBY",
        "colab": {
          "base_uri": "https://localhost:8080/",
          "height": 68
        },
        "outputId": "a3d7b3fe-a1a6-4ca5-fa8f-3a34fd6680fe"
      },
      "source": [
        "install.packages('xgboost')"
      ],
      "execution_count": null,
      "outputs": [
        {
          "output_type": "stream",
          "text": [
            "Installing package into ‘/usr/local/lib/R/site-library’\n",
            "(as ‘lib’ is unspecified)\n",
            "\n"
          ],
          "name": "stderr"
        }
      ]
    },
    {
      "cell_type": "code",
      "metadata": {
        "id": "fu6DYVUSDuvK"
      },
      "source": [
        "library(xgboost)"
      ],
      "execution_count": null,
      "outputs": []
    },
    {
      "cell_type": "markdown",
      "metadata": {
        "id": "teJDkgCM38IV"
      },
      "source": [
        "__Importing the dataset__"
      ]
    },
    {
      "cell_type": "code",
      "metadata": {
        "id": "3YqXIBbErIYk"
      },
      "source": [
        "# importing train data\n",
        "data_train = read.csv(\"DatasetStroke.csv\")"
      ],
      "execution_count": null,
      "outputs": []
    },
    {
      "cell_type": "code",
      "metadata": {
        "id": "nNotPivAKnMg",
        "colab": {
          "base_uri": "https://localhost:8080/",
          "height": 224
        },
        "outputId": "a8e89250-49db-44ac-c730-1cf7126c6216"
      },
      "source": [
        "# Checking the column in the data\n",
        "head(data_train)"
      ],
      "execution_count": null,
      "outputs": [
        {
          "output_type": "display_data",
          "data": {
            "text/plain": [
              "  id    gender age hypertension heart_disease ever_married work_type   \n",
              "1 30669 Male    3  0            0             No           children    \n",
              "2 30468 Male   58  1            0             Yes          Private     \n",
              "3 16523 Female  8  0            0             No           Private     \n",
              "4 56543 Female 70  0            0             Yes          Private     \n",
              "5 46136 Male   14  0            0             No           Never_worked\n",
              "6 32257 Female 47  0            0             Yes          Private     \n",
              "  Residence_type avg_glucose_level bmi  smoking_status  stroke\n",
              "1 Rural           95.12            18.0 never smoked    0     \n",
              "2 Urban           87.96            39.2 never smoked    0     \n",
              "3 Urban          110.89            17.6 never smoked    0     \n",
              "4 Rural           69.04            35.9 formerly smoked 0     \n",
              "5 Rural          161.28            19.1 formerly smoked 0     \n",
              "6 Urban          210.95            50.1 formerly smoked 0     "
            ],
            "text/latex": "A data.frame: 6 × 12\n\\begin{tabular}{r|llllllllllll}\n  & id & gender & age & hypertension & heart\\_disease & ever\\_married & work\\_type & Residence\\_type & avg\\_glucose\\_level & bmi & smoking\\_status & stroke\\\\\n  & <int> & <fct> & <dbl> & <int> & <int> & <fct> & <fct> & <fct> & <dbl> & <dbl> & <fct> & <int>\\\\\n\\hline\n\t1 & 30669 & Male   &  3 & 0 & 0 & No  & children     & Rural &  95.12 & 18.0 & never smoked    & 0\\\\\n\t2 & 30468 & Male   & 58 & 1 & 0 & Yes & Private      & Urban &  87.96 & 39.2 & never smoked    & 0\\\\\n\t3 & 16523 & Female &  8 & 0 & 0 & No  & Private      & Urban & 110.89 & 17.6 & never smoked    & 0\\\\\n\t4 & 56543 & Female & 70 & 0 & 0 & Yes & Private      & Rural &  69.04 & 35.9 & formerly smoked & 0\\\\\n\t5 & 46136 & Male   & 14 & 0 & 0 & No  & Never\\_worked & Rural & 161.28 & 19.1 & formerly smoked & 0\\\\\n\t6 & 32257 & Female & 47 & 0 & 0 & Yes & Private      & Urban & 210.95 & 50.1 & formerly smoked & 0\\\\\n\\end{tabular}\n",
            "text/markdown": "\nA data.frame: 6 × 12\n\n| <!--/--> | id &lt;int&gt; | gender &lt;fct&gt; | age &lt;dbl&gt; | hypertension &lt;int&gt; | heart_disease &lt;int&gt; | ever_married &lt;fct&gt; | work_type &lt;fct&gt; | Residence_type &lt;fct&gt; | avg_glucose_level &lt;dbl&gt; | bmi &lt;dbl&gt; | smoking_status &lt;fct&gt; | stroke &lt;int&gt; |\n|---|---|---|---|---|---|---|---|---|---|---|---|---|\n| 1 | 30669 | Male   |  3 | 0 | 0 | No  | children     | Rural |  95.12 | 18.0 | never smoked    | 0 |\n| 2 | 30468 | Male   | 58 | 1 | 0 | Yes | Private      | Urban |  87.96 | 39.2 | never smoked    | 0 |\n| 3 | 16523 | Female |  8 | 0 | 0 | No  | Private      | Urban | 110.89 | 17.6 | never smoked    | 0 |\n| 4 | 56543 | Female | 70 | 0 | 0 | Yes | Private      | Rural |  69.04 | 35.9 | formerly smoked | 0 |\n| 5 | 46136 | Male   | 14 | 0 | 0 | No  | Never_worked | Rural | 161.28 | 19.1 | formerly smoked | 0 |\n| 6 | 32257 | Female | 47 | 0 | 0 | Yes | Private      | Urban | 210.95 | 50.1 | formerly smoked | 0 |\n\n",
            "text/html": [
              "<table>\n",
              "<caption>A data.frame: 6 × 12</caption>\n",
              "<thead>\n",
              "\t<tr><th></th><th scope=col>id</th><th scope=col>gender</th><th scope=col>age</th><th scope=col>hypertension</th><th scope=col>heart_disease</th><th scope=col>ever_married</th><th scope=col>work_type</th><th scope=col>Residence_type</th><th scope=col>avg_glucose_level</th><th scope=col>bmi</th><th scope=col>smoking_status</th><th scope=col>stroke</th></tr>\n",
              "\t<tr><th></th><th scope=col>&lt;int&gt;</th><th scope=col>&lt;fct&gt;</th><th scope=col>&lt;dbl&gt;</th><th scope=col>&lt;int&gt;</th><th scope=col>&lt;int&gt;</th><th scope=col>&lt;fct&gt;</th><th scope=col>&lt;fct&gt;</th><th scope=col>&lt;fct&gt;</th><th scope=col>&lt;dbl&gt;</th><th scope=col>&lt;dbl&gt;</th><th scope=col>&lt;fct&gt;</th><th scope=col>&lt;int&gt;</th></tr>\n",
              "</thead>\n",
              "<tbody>\n",
              "\t<tr><th scope=row>1</th><td>30669</td><td>Male  </td><td> 3</td><td>0</td><td>0</td><td>No </td><td>children    </td><td>Rural</td><td> 95.12</td><td>18.0</td><td>never smoked   </td><td>0</td></tr>\n",
              "\t<tr><th scope=row>2</th><td>30468</td><td>Male  </td><td>58</td><td>1</td><td>0</td><td>Yes</td><td>Private     </td><td>Urban</td><td> 87.96</td><td>39.2</td><td>never smoked   </td><td>0</td></tr>\n",
              "\t<tr><th scope=row>3</th><td>16523</td><td>Female</td><td> 8</td><td>0</td><td>0</td><td>No </td><td>Private     </td><td>Urban</td><td>110.89</td><td>17.6</td><td>never smoked   </td><td>0</td></tr>\n",
              "\t<tr><th scope=row>4</th><td>56543</td><td>Female</td><td>70</td><td>0</td><td>0</td><td>Yes</td><td>Private     </td><td>Rural</td><td> 69.04</td><td>35.9</td><td>formerly smoked</td><td>0</td></tr>\n",
              "\t<tr><th scope=row>5</th><td>46136</td><td>Male  </td><td>14</td><td>0</td><td>0</td><td>No </td><td>Never_worked</td><td>Rural</td><td>161.28</td><td>19.1</td><td>formerly smoked</td><td>0</td></tr>\n",
              "\t<tr><th scope=row>6</th><td>32257</td><td>Female</td><td>47</td><td>0</td><td>0</td><td>Yes</td><td>Private     </td><td>Urban</td><td>210.95</td><td>50.1</td><td>formerly smoked</td><td>0</td></tr>\n",
              "</tbody>\n",
              "</table>\n"
            ]
          },
          "metadata": {
            "tags": []
          }
        }
      ]
    },
    {
      "cell_type": "code",
      "metadata": {
        "id": "bN7Q1ICzzymg",
        "colab": {
          "base_uri": "https://localhost:8080/",
          "height": 224
        },
        "outputId": "c03fde8c-8050-4e1f-9b92-7c45204b076d"
      },
      "source": [
        "tail(data_train)"
      ],
      "execution_count": null,
      "outputs": [
        {
          "output_type": "display_data",
          "data": {
            "text/plain": [
              "      id    gender age hypertension heart_disease ever_married work_type\n",
              "43395 52380 Male   47  0            0             No           Govt_job \n",
              "43396 56196 Female 10  0            0             No           children \n",
              "43397  5450 Female 56  0            0             Yes          Govt_job \n",
              "43398 28375 Female 82  1            0             Yes          Private  \n",
              "43399 27973 Male   40  0            0             Yes          Private  \n",
              "43400 36271 Female 82  0            0             Yes          Private  \n",
              "      Residence_type avg_glucose_level bmi  smoking_status  stroke\n",
              "43395 Urban           68.52            25.2 formerly smoked 0     \n",
              "43396 Urban           58.64            20.4 never smoked    0     \n",
              "43397 Urban          213.61            55.4 formerly smoked 0     \n",
              "43398 Urban           91.94            28.9 formerly smoked 0     \n",
              "43399 Urban           99.16            33.2 never smoked    0     \n",
              "43400 Urban           79.48            20.6 never smoked    0     "
            ],
            "text/latex": "A data.frame: 6 × 12\n\\begin{tabular}{r|llllllllllll}\n  & id & gender & age & hypertension & heart\\_disease & ever\\_married & work\\_type & Residence\\_type & avg\\_glucose\\_level & bmi & smoking\\_status & stroke\\\\\n  & <int> & <fct> & <dbl> & <int> & <int> & <fct> & <fct> & <fct> & <dbl> & <dbl> & <fct> & <int>\\\\\n\\hline\n\t43395 & 52380 & Male   & 47 & 0 & 0 & No  & Govt\\_job & Urban &  68.52 & 25.2 & formerly smoked & 0\\\\\n\t43396 & 56196 & Female & 10 & 0 & 0 & No  & children & Urban &  58.64 & 20.4 & never smoked    & 0\\\\\n\t43397 &  5450 & Female & 56 & 0 & 0 & Yes & Govt\\_job & Urban & 213.61 & 55.4 & formerly smoked & 0\\\\\n\t43398 & 28375 & Female & 82 & 1 & 0 & Yes & Private  & Urban &  91.94 & 28.9 & formerly smoked & 0\\\\\n\t43399 & 27973 & Male   & 40 & 0 & 0 & Yes & Private  & Urban &  99.16 & 33.2 & never smoked    & 0\\\\\n\t43400 & 36271 & Female & 82 & 0 & 0 & Yes & Private  & Urban &  79.48 & 20.6 & never smoked    & 0\\\\\n\\end{tabular}\n",
            "text/markdown": "\nA data.frame: 6 × 12\n\n| <!--/--> | id &lt;int&gt; | gender &lt;fct&gt; | age &lt;dbl&gt; | hypertension &lt;int&gt; | heart_disease &lt;int&gt; | ever_married &lt;fct&gt; | work_type &lt;fct&gt; | Residence_type &lt;fct&gt; | avg_glucose_level &lt;dbl&gt; | bmi &lt;dbl&gt; | smoking_status &lt;fct&gt; | stroke &lt;int&gt; |\n|---|---|---|---|---|---|---|---|---|---|---|---|---|\n| 43395 | 52380 | Male   | 47 | 0 | 0 | No  | Govt_job | Urban |  68.52 | 25.2 | formerly smoked | 0 |\n| 43396 | 56196 | Female | 10 | 0 | 0 | No  | children | Urban |  58.64 | 20.4 | never smoked    | 0 |\n| 43397 |  5450 | Female | 56 | 0 | 0 | Yes | Govt_job | Urban | 213.61 | 55.4 | formerly smoked | 0 |\n| 43398 | 28375 | Female | 82 | 1 | 0 | Yes | Private  | Urban |  91.94 | 28.9 | formerly smoked | 0 |\n| 43399 | 27973 | Male   | 40 | 0 | 0 | Yes | Private  | Urban |  99.16 | 33.2 | never smoked    | 0 |\n| 43400 | 36271 | Female | 82 | 0 | 0 | Yes | Private  | Urban |  79.48 | 20.6 | never smoked    | 0 |\n\n",
            "text/html": [
              "<table>\n",
              "<caption>A data.frame: 6 × 12</caption>\n",
              "<thead>\n",
              "\t<tr><th></th><th scope=col>id</th><th scope=col>gender</th><th scope=col>age</th><th scope=col>hypertension</th><th scope=col>heart_disease</th><th scope=col>ever_married</th><th scope=col>work_type</th><th scope=col>Residence_type</th><th scope=col>avg_glucose_level</th><th scope=col>bmi</th><th scope=col>smoking_status</th><th scope=col>stroke</th></tr>\n",
              "\t<tr><th></th><th scope=col>&lt;int&gt;</th><th scope=col>&lt;fct&gt;</th><th scope=col>&lt;dbl&gt;</th><th scope=col>&lt;int&gt;</th><th scope=col>&lt;int&gt;</th><th scope=col>&lt;fct&gt;</th><th scope=col>&lt;fct&gt;</th><th scope=col>&lt;fct&gt;</th><th scope=col>&lt;dbl&gt;</th><th scope=col>&lt;dbl&gt;</th><th scope=col>&lt;fct&gt;</th><th scope=col>&lt;int&gt;</th></tr>\n",
              "</thead>\n",
              "<tbody>\n",
              "\t<tr><th scope=row>43395</th><td>52380</td><td>Male  </td><td>47</td><td>0</td><td>0</td><td>No </td><td>Govt_job</td><td>Urban</td><td> 68.52</td><td>25.2</td><td>formerly smoked</td><td>0</td></tr>\n",
              "\t<tr><th scope=row>43396</th><td>56196</td><td>Female</td><td>10</td><td>0</td><td>0</td><td>No </td><td>children</td><td>Urban</td><td> 58.64</td><td>20.4</td><td>never smoked   </td><td>0</td></tr>\n",
              "\t<tr><th scope=row>43397</th><td> 5450</td><td>Female</td><td>56</td><td>0</td><td>0</td><td>Yes</td><td>Govt_job</td><td>Urban</td><td>213.61</td><td>55.4</td><td>formerly smoked</td><td>0</td></tr>\n",
              "\t<tr><th scope=row>43398</th><td>28375</td><td>Female</td><td>82</td><td>1</td><td>0</td><td>Yes</td><td>Private </td><td>Urban</td><td> 91.94</td><td>28.9</td><td>formerly smoked</td><td>0</td></tr>\n",
              "\t<tr><th scope=row>43399</th><td>27973</td><td>Male  </td><td>40</td><td>0</td><td>0</td><td>Yes</td><td>Private </td><td>Urban</td><td> 99.16</td><td>33.2</td><td>never smoked   </td><td>0</td></tr>\n",
              "\t<tr><th scope=row>43400</th><td>36271</td><td>Female</td><td>82</td><td>0</td><td>0</td><td>Yes</td><td>Private </td><td>Urban</td><td> 79.48</td><td>20.6</td><td>never smoked   </td><td>0</td></tr>\n",
              "</tbody>\n",
              "</table>\n"
            ]
          },
          "metadata": {
            "tags": []
          }
        }
      ]
    },
    {
      "cell_type": "code",
      "metadata": {
        "id": "jJQPWCEHKshP",
        "colab": {
          "base_uri": "https://localhost:8080/",
          "height": 34
        },
        "outputId": "c8eb11b7-987d-413c-dce6-99b61084dea9"
      },
      "source": [
        "\n",
        "dim(data_train) # Checking number of columns and rows"
      ],
      "execution_count": null,
      "outputs": [
        {
          "output_type": "display_data",
          "data": {
            "text/plain": [
              "[1] 43400    12"
            ],
            "text/latex": "\\begin{enumerate*}\n\\item 43400\n\\item 12\n\\end{enumerate*}\n",
            "text/markdown": "1. 43400\n2. 12\n\n\n",
            "text/html": [
              "<style>\n",
              ".list-inline {list-style: none; margin:0; padding: 0}\n",
              ".list-inline>li {display: inline-block}\n",
              ".list-inline>li:not(:last-child)::after {content: \"\\00b7\"; padding: 0 .5ex}\n",
              "</style>\n",
              "<ol class=list-inline><li>43400</li><li>12</li></ol>\n"
            ]
          },
          "metadata": {
            "tags": []
          }
        }
      ]
    },
    {
      "cell_type": "code",
      "metadata": {
        "id": "HW-qWkQMKs6y",
        "colab": {
          "base_uri": "https://localhost:8080/",
          "height": 425
        },
        "outputId": "55a06e33-608c-4840-9e83-124d07b9fbe4"
      },
      "source": [
        "summary(data_train) #checking the details of the columns of the data"
      ],
      "execution_count": null,
      "outputs": [
        {
          "output_type": "display_data",
          "data": {
            "text/plain": [
              "       id           gender           age         hypertension    \n",
              " Min.   :    1   Female:25665   Min.   : 0.08   Min.   :0.00000  \n",
              " 1st Qu.:18038   Male  :17724   1st Qu.:24.00   1st Qu.:0.00000  \n",
              " Median :36352   Other :   11   Median :44.00   Median :0.00000  \n",
              " Mean   :36326                  Mean   :42.22   Mean   :0.09357  \n",
              " 3rd Qu.:54514                  3rd Qu.:60.00   3rd Qu.:0.00000  \n",
              " Max.   :72943                  Max.   :82.00   Max.   :1.00000  \n",
              "                                                                 \n",
              " heart_disease     ever_married         work_type     Residence_type\n",
              " Min.   :0.00000   No :15462    children     : 6156   Rural:21644   \n",
              " 1st Qu.:0.00000   Yes:27938    Govt_job     : 5440   Urban:21756   \n",
              " Median :0.00000                Never_worked :  177                 \n",
              " Mean   :0.04751                Private      :24834                 \n",
              " 3rd Qu.:0.00000                Self-employed: 6793                 \n",
              " Max.   :1.00000                                                    \n",
              "                                                                    \n",
              " avg_glucose_level      bmi                smoking_status      stroke       \n",
              " Min.   : 55.00    Min.   :10.10   formerly smoked:10665   Min.   :0.00000  \n",
              " 1st Qu.: 77.54    1st Qu.:23.20   never smoked   :23255   1st Qu.:0.00000  \n",
              " Median : 91.58    Median :27.70   smokes         : 9480   Median :0.00000  \n",
              " Mean   :104.48    Mean   :28.61                           Mean   :0.01804  \n",
              " 3rd Qu.:112.07    3rd Qu.:32.90                           3rd Qu.:0.00000  \n",
              " Max.   :291.05    Max.   :97.60                           Max.   :1.00000  \n",
              "                   NA's   :1462                                             "
            ]
          },
          "metadata": {
            "tags": []
          }
        }
      ]
    },
    {
      "cell_type": "code",
      "metadata": {
        "id": "8Syzs82AKs4X",
        "colab": {
          "base_uri": "https://localhost:8080/",
          "height": 238
        },
        "outputId": "095155a0-bcfc-47a6-dd8a-17bf6126694f"
      },
      "source": [
        "str(data_train) # checking data types and information of the columns"
      ],
      "execution_count": null,
      "outputs": [
        {
          "output_type": "stream",
          "text": [
            "'data.frame':\t43400 obs. of  12 variables:\n",
            " $ id               : int  30669 30468 16523 56543 46136 32257 52800 41413 15266 28674 ...\n",
            " $ gender           : Factor w/ 3 levels \"Female\",\"Male\",..: 2 2 1 1 2 1 1 1 1 1 ...\n",
            " $ age              : num  3 58 8 70 14 47 52 75 32 74 ...\n",
            " $ hypertension     : int  0 1 0 0 0 0 0 0 0 1 ...\n",
            " $ heart_disease    : int  0 0 0 0 0 0 0 1 0 0 ...\n",
            " $ ever_married     : Factor w/ 2 levels \"No\",\"Yes\": 1 2 1 2 1 2 2 2 2 2 ...\n",
            " $ work_type        : Factor w/ 5 levels \"children\",\"Govt_job\",..: 1 4 4 4 3 4 4 5 4 5 ...\n",
            " $ Residence_type   : Factor w/ 2 levels \"Rural\",\"Urban\": 1 2 2 1 1 2 2 1 1 2 ...\n",
            " $ avg_glucose_level: num  95.1 88 110.9 69 161.3 ...\n",
            " $ bmi              : num  18 39.2 17.6 35.9 19.1 50.1 17.7 27 32.3 54.6 ...\n",
            " $ smoking_status   : Factor w/ 3 levels \"formerly smoked\",..: 2 2 2 1 1 1 1 2 3 2 ...\n",
            " $ stroke           : int  0 0 0 0 0 0 0 0 0 0 ...\n"
          ],
          "name": "stdout"
        }
      ]
    },
    {
      "cell_type": "code",
      "metadata": {
        "id": "nXJUEV34LFg-",
        "colab": {
          "base_uri": "https://localhost:8080/",
          "height": 34
        },
        "outputId": "6ade5300-de53-4679-b1f5-77b7e098495b"
      },
      "source": [
        "# Checking Missing Values in the dataset\n",
        "sum(is.na(data_train))  #1036 missing values in entire data set"
      ],
      "execution_count": null,
      "outputs": [
        {
          "output_type": "display_data",
          "data": {
            "text/plain": [
              "[1] 1462"
            ],
            "text/latex": "1462",
            "text/markdown": "1462",
            "text/html": [
              "1462"
            ]
          },
          "metadata": {
            "tags": []
          }
        }
      ]
    },
    {
      "cell_type": "code",
      "metadata": {
        "id": "3e604HqlAiqZ",
        "colab": {
          "base_uri": "https://localhost:8080/",
          "height": 425
        },
        "outputId": "219485cb-316c-4e53-eeab-74c645bd7ece"
      },
      "source": [
        "# Checking all the columns for missing values\n",
        "print('id')\n",
        "sum(is.na(data_train$id))\n",
        "print('gender')\n",
        "sum(is.na(data_train$gender))\n",
        "print('age')\n",
        "sum(is.na(data_train$age))\n",
        "print('hypertension')\n",
        "sum(is.na(data_train$hypertension))\n",
        "print('heart_disease')\n",
        "sum(is.na(data_train$heart_disease))\n",
        "print('ever_married')\n",
        "sum(is.na(data_train$ever_married))\n",
        "print('work_type')\n",
        "sum(is.na(data_train$work_type))\n",
        "print('Residence_type')\n",
        "sum(is.na(data_train$Residence_type))\n",
        "print('avg_glucose_level')\n",
        "sum(is.na(data_train$avg_glucose_level))\n",
        "print('bmi')\n",
        "sum(is.na(data_train$bmi))\n",
        "print('smoking_status')\n",
        "sum(is.na(data_train$smoking_status))\n",
        "print('stroke')\n",
        "sum(is.na(data_train$stroke))"
      ],
      "execution_count": null,
      "outputs": [
        {
          "output_type": "stream",
          "text": [
            "[1] \"id\"\n"
          ],
          "name": "stdout"
        },
        {
          "output_type": "display_data",
          "data": {
            "text/plain": [
              "[1] 0"
            ],
            "text/latex": "0",
            "text/markdown": "0",
            "text/html": [
              "0"
            ]
          },
          "metadata": {
            "tags": []
          }
        },
        {
          "output_type": "stream",
          "text": [
            "[1] \"gender\"\n"
          ],
          "name": "stdout"
        },
        {
          "output_type": "display_data",
          "data": {
            "text/plain": [
              "[1] 0"
            ],
            "text/latex": "0",
            "text/markdown": "0",
            "text/html": [
              "0"
            ]
          },
          "metadata": {
            "tags": []
          }
        },
        {
          "output_type": "stream",
          "text": [
            "[1] \"age\"\n"
          ],
          "name": "stdout"
        },
        {
          "output_type": "display_data",
          "data": {
            "text/plain": [
              "[1] 0"
            ],
            "text/latex": "0",
            "text/markdown": "0",
            "text/html": [
              "0"
            ]
          },
          "metadata": {
            "tags": []
          }
        },
        {
          "output_type": "stream",
          "text": [
            "[1] \"hypertension\"\n"
          ],
          "name": "stdout"
        },
        {
          "output_type": "display_data",
          "data": {
            "text/plain": [
              "[1] 0"
            ],
            "text/latex": "0",
            "text/markdown": "0",
            "text/html": [
              "0"
            ]
          },
          "metadata": {
            "tags": []
          }
        },
        {
          "output_type": "stream",
          "text": [
            "[1] \"heart_disease\"\n"
          ],
          "name": "stdout"
        },
        {
          "output_type": "display_data",
          "data": {
            "text/plain": [
              "[1] 0"
            ],
            "text/latex": "0",
            "text/markdown": "0",
            "text/html": [
              "0"
            ]
          },
          "metadata": {
            "tags": []
          }
        },
        {
          "output_type": "stream",
          "text": [
            "[1] \"ever_married\"\n"
          ],
          "name": "stdout"
        },
        {
          "output_type": "display_data",
          "data": {
            "text/plain": [
              "[1] 0"
            ],
            "text/latex": "0",
            "text/markdown": "0",
            "text/html": [
              "0"
            ]
          },
          "metadata": {
            "tags": []
          }
        },
        {
          "output_type": "stream",
          "text": [
            "[1] \"work_type\"\n"
          ],
          "name": "stdout"
        },
        {
          "output_type": "display_data",
          "data": {
            "text/plain": [
              "[1] 0"
            ],
            "text/latex": "0",
            "text/markdown": "0",
            "text/html": [
              "0"
            ]
          },
          "metadata": {
            "tags": []
          }
        },
        {
          "output_type": "stream",
          "text": [
            "[1] \"Residence_type\"\n"
          ],
          "name": "stdout"
        },
        {
          "output_type": "display_data",
          "data": {
            "text/plain": [
              "[1] 0"
            ],
            "text/latex": "0",
            "text/markdown": "0",
            "text/html": [
              "0"
            ]
          },
          "metadata": {
            "tags": []
          }
        },
        {
          "output_type": "stream",
          "text": [
            "[1] \"avg_glucose_level\"\n"
          ],
          "name": "stdout"
        },
        {
          "output_type": "display_data",
          "data": {
            "text/plain": [
              "[1] 0"
            ],
            "text/latex": "0",
            "text/markdown": "0",
            "text/html": [
              "0"
            ]
          },
          "metadata": {
            "tags": []
          }
        },
        {
          "output_type": "stream",
          "text": [
            "[1] \"bmi\"\n"
          ],
          "name": "stdout"
        },
        {
          "output_type": "display_data",
          "data": {
            "text/plain": [
              "[1] 1462"
            ],
            "text/latex": "1462",
            "text/markdown": "1462",
            "text/html": [
              "1462"
            ]
          },
          "metadata": {
            "tags": []
          }
        },
        {
          "output_type": "stream",
          "text": [
            "[1] \"smoking_status\"\n"
          ],
          "name": "stdout"
        },
        {
          "output_type": "display_data",
          "data": {
            "text/plain": [
              "[1] 0"
            ],
            "text/latex": "0",
            "text/markdown": "0",
            "text/html": [
              "0"
            ]
          },
          "metadata": {
            "tags": []
          }
        },
        {
          "output_type": "stream",
          "text": [
            "[1] \"stroke\"\n"
          ],
          "name": "stdout"
        },
        {
          "output_type": "display_data",
          "data": {
            "text/plain": [
              "[1] 0"
            ],
            "text/latex": "0",
            "text/markdown": "0",
            "text/html": [
              "0"
            ]
          },
          "metadata": {
            "tags": []
          }
        }
      ]
    },
    {
      "cell_type": "markdown",
      "metadata": {
        "id": "66PxAXtyUmyS"
      },
      "source": [
        "__Here we see that, only \"bmi\" column has all the missing values and all other oolumns don't have any missing values.__"
      ]
    },
    {
      "cell_type": "code",
      "metadata": {
        "id": "CPUPBUdSLMZ7",
        "colab": {
          "base_uri": "https://localhost:8080/",
          "height": 85
        },
        "outputId": "5fa990e0-94ff-44f0-d494-ae8aab05ea98"
      },
      "source": [
        "# Checking the values in the target variable\n",
        "print('-----Stroke - NO-----')\n",
        "sum(data_train$stroke==0)\n",
        "print('-----Stroke - Yes-----')\n",
        "sum(data_train$stroke==1)  "
      ],
      "execution_count": null,
      "outputs": [
        {
          "output_type": "stream",
          "text": [
            "[1] \"-----Stroke - NO-----\"\n"
          ],
          "name": "stdout"
        },
        {
          "output_type": "display_data",
          "data": {
            "text/plain": [
              "[1] 42617"
            ],
            "text/latex": "42617",
            "text/markdown": "42617",
            "text/html": [
              "42617"
            ]
          },
          "metadata": {
            "tags": []
          }
        },
        {
          "output_type": "stream",
          "text": [
            "[1] \"-----Stroke - Yes-----\"\n"
          ],
          "name": "stdout"
        },
        {
          "output_type": "display_data",
          "data": {
            "text/plain": [
              "[1] 783"
            ],
            "text/latex": "783",
            "text/markdown": "783",
            "text/html": [
              "783"
            ]
          },
          "metadata": {
            "tags": []
          }
        }
      ]
    },
    {
      "cell_type": "markdown",
      "metadata": {
        "id": "JR19q4lVVbWB"
      },
      "source": [
        "__There are 42617 records which has no stroke and 783 records which has stroke.This shows that the data is highly imbalanced data.__"
      ]
    },
    {
      "cell_type": "code",
      "metadata": {
        "id": "Om2I9x-xLMUQ",
        "colab": {
          "base_uri": "https://localhost:8080/",
          "height": 437
        },
        "outputId": "7df0a659-1d01-4b16-96f9-05e04d268fbd"
      },
      "source": [
        "# Checking if there are otuliers\n",
        "boxplot(data_train$bmi,col = \"turquoise\")"
      ],
      "execution_count": null,
      "outputs": [
        {
          "output_type": "display_data",
          "data": {
            "image/png": "[encoded data removed]",
            "text/plain": [
              "plot without title"
            ]
          },
          "metadata": {
            "tags": [],
            "image/png": {
              "width": 420,
              "height": 420
            },
            "text/plain": {
              "width": 420,
              "height": 420
            }
          }
        }
      ]
    },
    {
      "cell_type": "code",
      "metadata": {
        "id": "7pB1eY8l8HGC",
        "colab": {
          "base_uri": "https://localhost:8080/",
          "height": 437
        },
        "outputId": "5e24774d-35bd-4607-f603-774134a92505"
      },
      "source": [
        "boxplot(data_train$avg_glucose_level,col = \"turquoise\")"
      ],
      "execution_count": null,
      "outputs": [
        {
          "output_type": "display_data",
          "data": {
            "image/png": "[encoded data removed]",
            "text/plain": [
              "plot without title"
            ]
          },
          "metadata": {
            "tags": [],
            "image/png": {
              "width": 420,
              "height": 420
            },
            "text/plain": {
              "width": 420,
              "height": 420
            }
          }
        }
      ]
    },
    {
      "cell_type": "code",
      "metadata": {
        "id": "YtMZ5Vp48HBn",
        "colab": {
          "base_uri": "https://localhost:8080/",
          "height": 437
        },
        "outputId": "7010ebef-cc52-4026-a578-734e539a7efd"
      },
      "source": [
        "boxplot(data_train$age,col = \"turquoise\")"
      ],
      "execution_count": null,
      "outputs": [
        {
          "output_type": "display_data",
          "data": {
            "image/png": "[encoded data removed]",
            "text/plain": [
              "plot without title"
            ]
          },
          "metadata": {
            "tags": [],
            "image/png": {
              "width": 420,
              "height": 420
            },
            "text/plain": {
              "width": 420,
              "height": 420
            }
          }
        }
      ]
    },
    {
      "cell_type": "markdown",
      "metadata": {
        "id": "DuPr_tScXEEX"
      },
      "source": [
        "__Here we see that, columns \"bmi\" and \"avg_glucose\" has outliers whereas column \"age\" has no outliers.__"
      ]
    },
    {
      "cell_type": "code",
      "metadata": {
        "id": "LGScP8SlLU-n"
      },
      "source": [
        "# Filling missing values with median\n",
        "data_train$bmi=ifelse(is.na(data_train$bmi),median(data_train$bmi ,na.rm = TRUE), data_train$bmi)"
      ],
      "execution_count": null,
      "outputs": []
    },
    {
      "cell_type": "code",
      "metadata": {
        "id": "q6lpFFGVeGrv",
        "colab": {
          "base_uri": "https://localhost:8080/",
          "height": 34
        },
        "outputId": "3be2bc11-bd56-4ef0-b02c-9816327ea463"
      },
      "source": [
        "# Conting values that are greater than 62\n",
        "nrow(subset(data_train,bmi > 62))"
      ],
      "execution_count": null,
      "outputs": [
        {
          "output_type": "display_data",
          "data": {
            "text/plain": [
              "[1] 57"
            ],
            "text/latex": "57",
            "text/markdown": "57",
            "text/html": [
              "57"
            ]
          },
          "metadata": {
            "tags": []
          }
        }
      ]
    },
    {
      "cell_type": "markdown",
      "metadata": {
        "id": "neXu8sVUZB_f"
      },
      "source": [
        "__In the box plot for bmi we can see that there are outliers. But there are values which are not realistic as maximum bmi can be up to 62. There are values more than 62 which needs to be handled.__"
      ]
    },
    {
      "cell_type": "code",
      "metadata": {
        "id": "3nx5G3gOLMPq"
      },
      "source": [
        "# Winsorization for BMI\n",
        "bmi_matrix = matrix(data_train$bmi, 1, byrow=TRUE)\n",
        "max_value_bmi <- 32.90 + 1.5*IQR(bmi_matrix)\n",
        "data_train$bmi[data_train$bmi > max_value_bmi] <-max_value_bmi"
      ],
      "execution_count": null,
      "outputs": []
    },
    {
      "cell_type": "markdown",
      "metadata": {
        "id": "gDEV7AaeeWI5"
      },
      "source": [
        "__Here, we are using winsorization on bmi column to handle outliers effect on our results.__\n",
        "\n",
        "__Winsorization - Winsorization is a way to minimize the influence of outliers in your data.__"
      ]
    },
    {
      "cell_type": "code",
      "metadata": {
        "id": "meMRfKwZLtdP",
        "colab": {
          "base_uri": "https://localhost:8080/",
          "height": 437
        },
        "outputId": "cd04d515-0781-4ae1-c234-51164a5f6b76"
      },
      "source": [
        "#plotting histograms\n",
        "hist(data_train$age, xlab = 'Age', main = 'Histogram of Age',col = \"turquoise\")"
      ],
      "execution_count": null,
      "outputs": [
        {
          "output_type": "display_data",
          "data": {
            "image/png": "[encoded data removed]",
            "text/plain": [
              "Plot with title “Histogram of Age”"
            ]
          },
          "metadata": {
            "tags": [],
            "image/png": {
              "width": 420,
              "height": 420
            },
            "text/plain": {
              "width": 420,
              "height": 420
            }
          }
        }
      ]
    },
    {
      "cell_type": "code",
      "metadata": {
        "id": "mtUYipKSe3RI",
        "colab": {
          "base_uri": "https://localhost:8080/",
          "height": 437
        },
        "outputId": "d642e15c-3e10-4d46-97b2-f843f3120deb"
      },
      "source": [
        "hist(data_train$bmi, xlab = 'BMI', main = 'Histogram of BMI',col = \"turquoise\")"
      ],
      "execution_count": null,
      "outputs": [
        {
          "output_type": "display_data",
          "data": {
            "image/png": "[encoded data removed]",
            "text/plain": [
              "Plot with title “Histogram of BMI”"
            ]
          },
          "metadata": {
            "tags": [],
            "image/png": {
              "width": 420,
              "height": 420
            },
            "text/plain": {
              "width": 420,
              "height": 420
            }
          }
        }
      ]
    },
    {
      "cell_type": "code",
      "metadata": {
        "id": "RYhUJLzNe-OB",
        "colab": {
          "base_uri": "https://localhost:8080/",
          "height": 437
        },
        "outputId": "02e75077-f3c6-4c36-b5f3-03c7eddb163e"
      },
      "source": [
        "hist(data_train$avg_glucose_level, xlab = 'Average Glucose Level', main = 'Histogram of Average Glucose Level',col = \"turquoise\")"
      ],
      "execution_count": null,
      "outputs": [
        {
          "output_type": "display_data",
          "data": {
            "image/png": "[encoded data removed]",
            "text/plain": [
              "Plot with title “Histogram of Average Glucose Level”"
            ]
          },
          "metadata": {
            "tags": [],
            "image/png": {
              "width": 420,
              "height": 420
            },
            "text/plain": {
              "width": 420,
              "height": 420
            }
          }
        }
      ]
    },
    {
      "cell_type": "markdown",
      "metadata": {
        "id": "8Qbmqza8Fa6d"
      },
      "source": [
        "__From the above histograms, we observe :__\n",
        "\n",
        "__1. There are records of all the age group from 0 to 80.__\n",
        "\n",
        "__2. There is more concentration of bmi records from 20 to 35.__\n",
        "\n",
        "__3. There is more Conecentration of glucose records with values between 50 and 125.__"
      ]
    },
    {
      "cell_type": "code",
      "metadata": {
        "id": "DHmx6X5XL4Z4",
        "colab": {
          "base_uri": "https://localhost:8080/",
          "height": 437
        },
        "outputId": "3b800fb2-9352-4720-9cdb-48e4304315a2"
      },
      "source": [
        "#potting bargraphs\n",
        "barplot(table(data_train$gender), main = 'Barplot for Gender', xlab = 'Gender',col = \"turquoise\")\n"
      ],
      "execution_count": null,
      "outputs": [
        {
          "output_type": "display_data",
          "data": {
            "image/png": "[encoded data removed]",
            "text/plain": [
              "Plot with title “Barplot for Gender”"
            ]
          },
          "metadata": {
            "tags": [],
            "image/png": {
              "width": 420,
              "height": 420
            },
            "text/plain": {
              "width": 420,
              "height": 420
            }
          }
        }
      ]
    },
    {
      "cell_type": "code",
      "metadata": {
        "id": "UT8SI5kYfX1Y",
        "colab": {
          "base_uri": "https://localhost:8080/",
          "height": 437
        },
        "outputId": "47eca1ef-c556-40dd-b432-48ea592d0b19"
      },
      "source": [
        "barplot(table(data_train$heart_disease), xlab = 'Heart Disease', main = 'Barplot for Heart Disease',col = \"turquoise\")"
      ],
      "execution_count": null,
      "outputs": [
        {
          "output_type": "display_data",
          "data": {
            "image/png": "[encoded data removed]",
            "text/plain": [
              "Plot with title “Barplot for Heart Disease”"
            ]
          },
          "metadata": {
            "tags": [],
            "image/png": {
              "width": 420,
              "height": 420
            },
            "text/plain": {
              "width": 420,
              "height": 420
            }
          }
        }
      ]
    },
    {
      "cell_type": "code",
      "metadata": {
        "id": "Z-DjkgojfbdW",
        "colab": {
          "base_uri": "https://localhost:8080/",
          "height": 437
        },
        "outputId": "fe24658b-5d29-4b86-d52f-a2aaac9ec950"
      },
      "source": [
        "barplot(table(data_train$hypertension), xlab = 'Hypertension', main = 'Barplot for Hypertension',col = \"turquoise\")"
      ],
      "execution_count": null,
      "outputs": [
        {
          "output_type": "display_data",
          "data": {
            "image/png": "[encoded data removed]",
            "text/plain": [
              "Plot with title “Barplot for Hypertension”"
            ]
          },
          "metadata": {
            "tags": [],
            "image/png": {
              "width": 420,
              "height": 420
            },
            "text/plain": {
              "width": 420,
              "height": 420
            }
          }
        }
      ]
    },
    {
      "cell_type": "markdown",
      "metadata": {
        "id": "cO6v5f5MHGRP"
      },
      "source": [
        "__From the above bargraphs, we observe :__\n",
        "\n",
        "__1. There are slightly more females than number of males__\n",
        "\n",
        "__2. There are lesser number of patients affected by heart disease in this data.__\n",
        "\n",
        "__3. There are lesser number of patients affected by hypertension in this data.__"
      ]
    },
    {
      "cell_type": "code",
      "metadata": {
        "id": "AeysM4k2L68b",
        "colab": {
          "base_uri": "https://localhost:8080/",
          "height": 437
        },
        "outputId": "9f2e20bd-05af-4d22-a08a-87b7bc5ad050"
      },
      "source": [
        "# bargrpahs for factor variables\n",
        "ggplot(data_train) + aes(x = smoking_status, position = 'stack') + geom_bar(fill = 'orange')"
      ],
      "execution_count": null,
      "outputs": [
        {
          "output_type": "display_data",
          "data": {
            "image/png": "[encoded data removed]",
            "text/plain": [
              "plot without title"
            ]
          },
          "metadata": {
            "tags": [],
            "image/png": {
              "width": 420,
              "height": 420
            },
            "text/plain": {
              "width": 420,
              "height": 420
            }
          }
        }
      ]
    },
    {
      "cell_type": "code",
      "metadata": {
        "id": "cMpjMrlCf3vx",
        "colab": {
          "base_uri": "https://localhost:8080/",
          "height": 437
        },
        "outputId": "dd55c79a-e680-439f-f408-037a5ef7088b"
      },
      "source": [
        "ggplot(data_train) + aes(x = gender) + geom_bar(fill = 'orange')"
      ],
      "execution_count": null,
      "outputs": [
        {
          "output_type": "display_data",
          "data": {
            "image/png": "[encoded data removed]",
            "text/plain": [
              "plot without title"
            ]
          },
          "metadata": {
            "tags": [],
            "image/png": {
              "width": 420,
              "height": 420
            },
            "text/plain": {
              "width": 420,
              "height": 420
            }
          }
        }
      ]
    },
    {
      "cell_type": "code",
      "metadata": {
        "id": "H_uhBSExf4qd",
        "colab": {
          "base_uri": "https://localhost:8080/",
          "height": 437
        },
        "outputId": "348feac7-93ec-4c7e-a9ef-90562387226c"
      },
      "source": [
        "ggplot(data_train) + aes(x = work_type) + geom_bar(fill = 'orange')"
      ],
      "execution_count": null,
      "outputs": [
        {
          "output_type": "display_data",
          "data": {
            "image/png": "[encoded data removed]",
            "text/plain": [
              "plot without title"
            ]
          },
          "metadata": {
            "tags": [],
            "image/png": {
              "width": 420,
              "height": 420
            },
            "text/plain": {
              "width": 420,
              "height": 420
            }
          }
        }
      ]
    },
    {
      "cell_type": "code",
      "metadata": {
        "id": "5wrWPP3Rf8N5",
        "colab": {
          "base_uri": "https://localhost:8080/",
          "height": 437
        },
        "outputId": "869f8fdc-0752-4c68-e6ba-98d404dda51b"
      },
      "source": [
        "ggplot(data_train) + aes(x = hypertension) + geom_bar(fill = 'orange')"
      ],
      "execution_count": null,
      "outputs": [
        {
          "output_type": "display_data",
          "data": {
            "image/png": "[encoded data removed]",
            "text/plain": [
              "plot without title"
            ]
          },
          "metadata": {
            "tags": [],
            "image/png": {
              "width": 420,
              "height": 420
            },
            "text/plain": {
              "width": 420,
              "height": 420
            }
          }
        }
      ]
    },
    {
      "cell_type": "markdown",
      "metadata": {
        "id": "d45d_8E-H09P"
      },
      "source": [
        "__From the above bargraphs, we observe :__\n",
        "\n",
        "__1. Number of 'smokes' and 'formerly smoked' is almost equal and number of 'never smoked' is nearly twice of others.__\n",
        "\n",
        "__2. Females records are slightly more than males.__\n",
        "\n",
        "__3. Work_type is diverse and never worked are very less and those working in private sector is very high compared to other work types.__\n",
        "\n",
        "__4. There are very less number of people having hypertension compared to those does not have it.__"
      ]
    },
    {
      "cell_type": "markdown",
      "metadata": {
        "id": "JOSBoKsPrzSW"
      },
      "source": [
        "__-----------------------------Feature Extraction and Engineering-----------------------------__"
      ]
    },
    {
      "cell_type": "code",
      "metadata": {
        "id": "b5elMGWtNGWj"
      },
      "source": [
        "# Finding Information Value i.e. IV to measure the strength of the relation of those columns in prediction.\n",
        "IvValues<-create_infotables(data = data_train,y=\"stroke\")"
      ],
      "execution_count": null,
      "outputs": []
    },
    {
      "cell_type": "code",
      "metadata": {
        "id": "snilYK8vpbDh",
        "colab": {
          "base_uri": "https://localhost:8080/",
          "height": 221
        },
        "outputId": "b2dbd38a-23f3-41d6-bcd3-7121ab2596d5"
      },
      "source": [
        "#summary of information values for all variables\n",
        "print(IvValues$Summary, row.names = F)"
      ],
      "execution_count": null,
      "outputs": [
        {
          "output_type": "stream",
          "text": [
            "          Variable           IV\n",
            "               age 2.3341566394\n",
            "         work_type 0.6966733618\n",
            "      ever_married 0.4145475109\n",
            "               bmi 0.3511390790\n",
            "     heart_disease 0.3349816993\n",
            " avg_glucose_level 0.2746191243\n",
            "      hypertension 0.2038108102\n",
            "    smoking_status 0.0321185639\n",
            "                id 0.0087007372\n",
            "            gender 0.0071438198\n",
            "    Residence_type 0.0002850077\n"
          ],
          "name": "stdout"
        }
      ]
    },
    {
      "cell_type": "markdown",
      "metadata": {
        "id": "yMUzeqiAslwr"
      },
      "source": [
        "__we observe that \"id\", \"gender\" and \"Residence_type\" columns have very low impact or contribution in predicting the output. So we will drop those columns. Here we will not drop \"gender\" column as I feel that we can consider it in prediction. Other two columns can be easily observed to be not useful.__"
      ]
    },
    {
      "cell_type": "code",
      "metadata": {
        "id": "aSXJmAxzrVJA"
      },
      "source": [
        "# Dropping the columns which are not useful\n",
        "drops <- c('Residence_type','id')\n",
        "data_train<-data_train[ , !(names(data_train) %in% drops)]"
      ],
      "execution_count": null,
      "outputs": []
    },
    {
      "cell_type": "code",
      "metadata": {
        "id": "WTEAOgkYrVE-",
        "colab": {
          "base_uri": "https://localhost:8080/",
          "height": 204
        },
        "outputId": "ab345430-a3d4-4ee9-f994-6795eeb92587"
      },
      "source": [
        "head(data_train) # Checking that the columns are deleted"
      ],
      "execution_count": null,
      "outputs": [
        {
          "output_type": "display_data",
          "data": {
            "text/plain": [
              "  gender age hypertension heart_disease ever_married work_type   \n",
              "1 Male    3  0            0             No           children    \n",
              "2 Male   58  1            0             Yes          Private     \n",
              "3 Female  8  0            0             No           Private     \n",
              "4 Female 70  0            0             Yes          Private     \n",
              "5 Male   14  0            0             No           Never_worked\n",
              "6 Female 47  0            0             Yes          Private     \n",
              "  avg_glucose_level bmi  smoking_status  stroke\n",
              "1  95.12            18.0 never smoked    0     \n",
              "2  87.96            39.2 never smoked    0     \n",
              "3 110.89            17.6 never smoked    0     \n",
              "4  69.04            35.9 formerly smoked 0     \n",
              "5 161.28            19.1 formerly smoked 0     \n",
              "6 210.95            46.7 formerly smoked 0     "
            ],
            "text/latex": "A data.frame: 6 × 10\n\\begin{tabular}{r|llllllllll}\n  & gender & age & hypertension & heart\\_disease & ever\\_married & work\\_type & avg\\_glucose\\_level & bmi & smoking\\_status & stroke\\\\\n  & <fct> & <dbl> & <int> & <int> & <fct> & <fct> & <dbl> & <dbl> & <fct> & <int>\\\\\n\\hline\n\t1 & Male   &  3 & 0 & 0 & No  & children     &  95.12 & 18.0 & never smoked    & 0\\\\\n\t2 & Male   & 58 & 1 & 0 & Yes & Private      &  87.96 & 39.2 & never smoked    & 0\\\\\n\t3 & Female &  8 & 0 & 0 & No  & Private      & 110.89 & 17.6 & never smoked    & 0\\\\\n\t4 & Female & 70 & 0 & 0 & Yes & Private      &  69.04 & 35.9 & formerly smoked & 0\\\\\n\t5 & Male   & 14 & 0 & 0 & No  & Never\\_worked & 161.28 & 19.1 & formerly smoked & 0\\\\\n\t6 & Female & 47 & 0 & 0 & Yes & Private      & 210.95 & 46.7 & formerly smoked & 0\\\\\n\\end{tabular}\n",
            "text/markdown": "\nA data.frame: 6 × 10\n\n| <!--/--> | gender &lt;fct&gt; | age &lt;dbl&gt; | hypertension &lt;int&gt; | heart_disease &lt;int&gt; | ever_married &lt;fct&gt; | work_type &lt;fct&gt; | avg_glucose_level &lt;dbl&gt; | bmi &lt;dbl&gt; | smoking_status &lt;fct&gt; | stroke &lt;int&gt; |\n|---|---|---|---|---|---|---|---|---|---|---|\n| 1 | Male   |  3 | 0 | 0 | No  | children     |  95.12 | 18.0 | never smoked    | 0 |\n| 2 | Male   | 58 | 1 | 0 | Yes | Private      |  87.96 | 39.2 | never smoked    | 0 |\n| 3 | Female |  8 | 0 | 0 | No  | Private      | 110.89 | 17.6 | never smoked    | 0 |\n| 4 | Female | 70 | 0 | 0 | Yes | Private      |  69.04 | 35.9 | formerly smoked | 0 |\n| 5 | Male   | 14 | 0 | 0 | No  | Never_worked | 161.28 | 19.1 | formerly smoked | 0 |\n| 6 | Female | 47 | 0 | 0 | Yes | Private      | 210.95 | 46.7 | formerly smoked | 0 |\n\n",
            "text/html": [
              "<table>\n",
              "<caption>A data.frame: 6 × 10</caption>\n",
              "<thead>\n",
              "\t<tr><th></th><th scope=col>gender</th><th scope=col>age</th><th scope=col>hypertension</th><th scope=col>heart_disease</th><th scope=col>ever_married</th><th scope=col>work_type</th><th scope=col>avg_glucose_level</th><th scope=col>bmi</th><th scope=col>smoking_status</th><th scope=col>stroke</th></tr>\n",
              "\t<tr><th></th><th scope=col>&lt;fct&gt;</th><th scope=col>&lt;dbl&gt;</th><th scope=col>&lt;int&gt;</th><th scope=col>&lt;int&gt;</th><th scope=col>&lt;fct&gt;</th><th scope=col>&lt;fct&gt;</th><th scope=col>&lt;dbl&gt;</th><th scope=col>&lt;dbl&gt;</th><th scope=col>&lt;fct&gt;</th><th scope=col>&lt;int&gt;</th></tr>\n",
              "</thead>\n",
              "<tbody>\n",
              "\t<tr><th scope=row>1</th><td>Male  </td><td> 3</td><td>0</td><td>0</td><td>No </td><td>children    </td><td> 95.12</td><td>18.0</td><td>never smoked   </td><td>0</td></tr>\n",
              "\t<tr><th scope=row>2</th><td>Male  </td><td>58</td><td>1</td><td>0</td><td>Yes</td><td>Private     </td><td> 87.96</td><td>39.2</td><td>never smoked   </td><td>0</td></tr>\n",
              "\t<tr><th scope=row>3</th><td>Female</td><td> 8</td><td>0</td><td>0</td><td>No </td><td>Private     </td><td>110.89</td><td>17.6</td><td>never smoked   </td><td>0</td></tr>\n",
              "\t<tr><th scope=row>4</th><td>Female</td><td>70</td><td>0</td><td>0</td><td>Yes</td><td>Private     </td><td> 69.04</td><td>35.9</td><td>formerly smoked</td><td>0</td></tr>\n",
              "\t<tr><th scope=row>5</th><td>Male  </td><td>14</td><td>0</td><td>0</td><td>No </td><td>Never_worked</td><td>161.28</td><td>19.1</td><td>formerly smoked</td><td>0</td></tr>\n",
              "\t<tr><th scope=row>6</th><td>Female</td><td>47</td><td>0</td><td>0</td><td>Yes</td><td>Private     </td><td>210.95</td><td>46.7</td><td>formerly smoked</td><td>0</td></tr>\n",
              "</tbody>\n",
              "</table>\n"
            ]
          },
          "metadata": {
            "tags": []
          }
        }
      ]
    },
    {
      "cell_type": "code",
      "metadata": {
        "id": "oOBleQncrVBE",
        "colab": {
          "base_uri": "https://localhost:8080/",
          "height": 34
        },
        "outputId": "5fad9946-43e6-43b4-b7ef-885289745dde"
      },
      "source": [
        "dim(data_train) # checking the current status of our data"
      ],
      "execution_count": null,
      "outputs": [
        {
          "output_type": "display_data",
          "data": {
            "text/plain": [
              "[1] 43400    10"
            ],
            "text/latex": "\\begin{enumerate*}\n\\item 43400\n\\item 10\n\\end{enumerate*}\n",
            "text/markdown": "1. 43400\n2. 10\n\n\n",
            "text/html": [
              "<style>\n",
              ".list-inline {list-style: none; margin:0; padding: 0}\n",
              ".list-inline>li {display: inline-block}\n",
              ".list-inline>li:not(:last-child)::after {content: \"\\00b7\"; padding: 0 .5ex}\n",
              "</style>\n",
              "<ol class=list-inline><li>43400</li><li>10</li></ol>\n"
            ]
          },
          "metadata": {
            "tags": []
          }
        }
      ]
    },
    {
      "cell_type": "code",
      "metadata": {
        "id": "HLEz8CmQrIge"
      },
      "source": [
        "#Train test split\n",
        "set.seed(1)\n",
        "sample = sample.split(data_train,SplitRatio = 0.70) # 70%-30% split\n",
        "train = subset(data_train,sample ==TRUE)\n",
        "validate = subset(data_train,sample ==FALSE)"
      ],
      "execution_count": null,
      "outputs": []
    },
    {
      "cell_type": "code",
      "metadata": {
        "id": "F7Ns0UElrqoJ",
        "colab": {
          "base_uri": "https://localhost:8080/",
          "height": 34
        },
        "outputId": "965a61e0-507f-4af8-df7d-1047f24fc80e"
      },
      "source": [
        "dim(train) #number of rows and columns"
      ],
      "execution_count": null,
      "outputs": [
        {
          "output_type": "display_data",
          "data": {
            "text/plain": [
              "[1] 30380    10"
            ],
            "text/latex": "\\begin{enumerate*}\n\\item 30380\n\\item 10\n\\end{enumerate*}\n",
            "text/markdown": "1. 30380\n2. 10\n\n\n",
            "text/html": [
              "<style>\n",
              ".list-inline {list-style: none; margin:0; padding: 0}\n",
              ".list-inline>li {display: inline-block}\n",
              ".list-inline>li:not(:last-child)::after {content: \"\\00b7\"; padding: 0 .5ex}\n",
              "</style>\n",
              "<ol class=list-inline><li>30380</li><li>10</li></ol>\n"
            ]
          },
          "metadata": {
            "tags": []
          }
        }
      ]
    },
    {
      "cell_type": "code",
      "metadata": {
        "id": "SBrhm2HdrzVA",
        "colab": {
          "base_uri": "https://localhost:8080/",
          "height": 34
        },
        "outputId": "cccf8a01-1179-4301-c4d0-63ad715232a4"
      },
      "source": [
        "dim(validate) # number of rows and columns"
      ],
      "execution_count": null,
      "outputs": [
        {
          "output_type": "display_data",
          "data": {
            "text/plain": [
              "[1] 13020    10"
            ],
            "text/latex": "\\begin{enumerate*}\n\\item 13020\n\\item 10\n\\end{enumerate*}\n",
            "text/markdown": "1. 13020\n2. 10\n\n\n",
            "text/html": [
              "<style>\n",
              ".list-inline {list-style: none; margin:0; padding: 0}\n",
              ".list-inline>li {display: inline-block}\n",
              ".list-inline>li:not(:last-child)::after {content: \"\\00b7\"; padding: 0 .5ex}\n",
              "</style>\n",
              "<ol class=list-inline><li>13020</li><li>10</li></ol>\n"
            ]
          },
          "metadata": {
            "tags": []
          }
        }
      ]
    },
    {
      "cell_type": "code",
      "metadata": {
        "id": "Ix_eaapTozNN",
        "colab": {
          "base_uri": "https://localhost:8080/",
          "height": 85
        },
        "outputId": "632a39f9-f570-4d4b-8e48-50d1821b0bbc"
      },
      "source": [
        "# checking the balance of the data of the \"Stroke\"\n",
        "print('-----Stroke - NO-----')\n",
        "sum(data_train$stroke==0)\n",
        "print('-----Stroke - Yes-----')\n",
        "sum(data_train$stroke==1) "
      ],
      "execution_count": null,
      "outputs": [
        {
          "output_type": "stream",
          "text": [
            "[1] \"-----Stroke - NO-----\"\n"
          ],
          "name": "stdout"
        },
        {
          "output_type": "display_data",
          "data": {
            "text/plain": [
              "[1] 42617"
            ],
            "text/latex": "42617",
            "text/markdown": "42617",
            "text/html": [
              "42617"
            ]
          },
          "metadata": {
            "tags": []
          }
        },
        {
          "output_type": "stream",
          "text": [
            "[1] \"-----Stroke - Yes-----\"\n"
          ],
          "name": "stdout"
        },
        {
          "output_type": "display_data",
          "data": {
            "text/plain": [
              "[1] 783"
            ],
            "text/latex": "783",
            "text/markdown": "783",
            "text/html": [
              "783"
            ]
          },
          "metadata": {
            "tags": []
          }
        }
      ]
    },
    {
      "cell_type": "markdown",
      "metadata": {
        "id": "pUmP_Hg5zmaS"
      },
      "source": [
        "__As we saw above in our analysis that our data is highly imbalanced. To overcome this issue we are going to use over sampling technique. In this technique Stroke i.e \"1\" will be plotted or generated to nearly around the numbers of \"0\".__"
      ]
    },
    {
      "cell_type": "code",
      "metadata": {
        "id": "TVyC3ROGrWxr",
        "colab": {
          "base_uri": "https://localhost:8080/",
          "height": 119
        },
        "outputId": "7db1a77b-72bc-4c78-eec0-e7e55d6a36b6"
      },
      "source": [
        "#over sampling for balancing the data\n",
        "over_train <- ovun.sample(stroke ~ ., data = train, method = \"over\",N=29817*2)$data\n",
        "table(over_train$stroke)\n",
        "prop.table(table(over_train$stroke))"
      ],
      "execution_count": null,
      "outputs": [
        {
          "output_type": "display_data",
          "data": {
            "text/plain": [
              "\n",
              "    0     1 \n",
              "29817 29817 "
            ]
          },
          "metadata": {
            "tags": []
          }
        },
        {
          "output_type": "display_data",
          "data": {
            "text/plain": [
              "\n",
              "  0   1 \n",
              "0.5 0.5 "
            ]
          },
          "metadata": {
            "tags": []
          }
        }
      ]
    },
    {
      "cell_type": "markdown",
      "metadata": {
        "id": "18Y5jpu2zkz9"
      },
      "source": [
        "__Here, we see that both \"0\" and \"1\" are now balanced to nearly 50%-50%.__"
      ]
    },
    {
      "cell_type": "code",
      "metadata": {
        "id": "raogS73JdORv"
      },
      "source": [
        "# converting target variable to factor to performs classification. If not it will perform regression.\n",
        "over_train$stroke <- as.factor(over_train$stroke) "
      ],
      "execution_count": null,
      "outputs": []
    },
    {
      "cell_type": "markdown",
      "metadata": {
        "id": "DrtYDCcayzDI"
      },
      "source": [
        "__-----------------------------Training a Classification Tree model-----------------------------__"
      ]
    },
    {
      "cell_type": "code",
      "metadata": {
        "id": "t6LofpyTr-ig"
      },
      "source": [
        "CFT<- rpart(stroke~., data=over_train, method=\"class\",cp = 0.0001) "
      ],
      "execution_count": null,
      "outputs": []
    },
    {
      "cell_type": "markdown",
      "metadata": {
        "id": "_wNOcSa4zNv8"
      },
      "source": [
        "__-----------------------------Evaluating Model on Train Data-----------------------------__"
      ]
    },
    {
      "cell_type": "code",
      "metadata": {
        "id": "YRVCOm1RPZlE"
      },
      "source": [
        "#Predicting on Train data\n",
        "pCFT = predict(CFT, over_train,type='class')"
      ],
      "execution_count": null,
      "outputs": []
    },
    {
      "cell_type": "code",
      "metadata": {
        "id": "_3wYV76SO0Z9",
        "colab": {
          "base_uri": "https://localhost:8080/",
          "height": 153
        },
        "outputId": "775a0166-d5fc-4c70-9bd4-ff0c3442699e"
      },
      "source": [
        "#Confusion Matrix, Accuracy and F1_score of the train data\n",
        "table(over_train$stroke,pCFT)\n",
        "print('---------------Accuracy--------------------')\n",
        "Accuracy(pCFT,over_train$stroke)\n",
        "print('----------------F1_Score-------------------')\n",
        "F1_Score(pCFT,over_train$stroke)"
      ],
      "execution_count": null,
      "outputs": [
        {
          "output_type": "display_data",
          "data": {
            "text/plain": [
              "   pCFT\n",
              "        0     1\n",
              "  0 29041   776\n",
              "  1     0 29817"
            ]
          },
          "metadata": {
            "tags": []
          }
        },
        {
          "output_type": "stream",
          "text": [
            "[1] \"---------------Accuracy--------------------\"\n"
          ],
          "name": "stdout"
        },
        {
          "output_type": "display_data",
          "data": {
            "text/plain": [
              "[1] 0.9869873"
            ],
            "text/latex": "0.986987289130362",
            "text/markdown": "0.986987289130362",
            "text/html": [
              "0.986987289130362"
            ]
          },
          "metadata": {
            "tags": []
          }
        },
        {
          "output_type": "stream",
          "text": [
            "[1] \"----------------F1_Score-------------------\"\n"
          ],
          "name": "stdout"
        },
        {
          "output_type": "display_data",
          "data": {
            "text/plain": [
              "[1] 0.9868157"
            ],
            "text/latex": "0.986815725984573",
            "text/markdown": "0.986815725984573",
            "text/html": [
              "0.986815725984573"
            ]
          },
          "metadata": {
            "tags": []
          }
        }
      ]
    },
    {
      "cell_type": "code",
      "metadata": {
        "id": "vU6iodldV5Kf"
      },
      "source": [
        ""
      ],
      "execution_count": null,
      "outputs": []
    },
    {
      "cell_type": "markdown",
      "metadata": {
        "id": "dN4cDb-b1xZk"
      },
      "source": [
        "__-----------------------------Evaluating Model on Test Data-----------------------------__"
      ]
    },
    {
      "cell_type": "code",
      "metadata": {
        "id": "_93CTZ1Ds7Ty"
      },
      "source": [
        "#Predicting on Test data\n",
        "predictionsCFT = predict(CFT, validate,type='class') "
      ],
      "execution_count": null,
      "outputs": []
    },
    {
      "cell_type": "code",
      "metadata": {
        "id": "8lPTjzICtB87",
        "colab": {
          "base_uri": "https://localhost:8080/",
          "height": 153
        },
        "outputId": "be780f4c-5541-4920-a010-19f05998c6ff"
      },
      "source": [
        "#Confusion Matrix, Accuracy and F1_score of the test data\n",
        "table(validate$stroke,predictionsCFT)\n",
        "print('---------------Accuracy--------------------')\n",
        "Accuracy(predictionsCFT,validate$stroke)\n",
        "print('----------------F1_Score-------------------')\n",
        "F1_Score(predictionsCFT,validate$stroke)"
      ],
      "execution_count": null,
      "outputs": [
        {
          "output_type": "display_data",
          "data": {
            "text/plain": [
              "   predictionsCFT\n",
              "        0     1\n",
              "  0 12279   521\n",
              "  1   196    24"
            ]
          },
          "metadata": {
            "tags": []
          }
        },
        {
          "output_type": "stream",
          "text": [
            "[1] \"---------------Accuracy--------------------\"\n"
          ],
          "name": "stdout"
        },
        {
          "output_type": "display_data",
          "data": {
            "text/plain": [
              "[1] 0.9449309"
            ],
            "text/latex": "0.944930875576037",
            "text/markdown": "0.944930875576037",
            "text/html": [
              "0.944930875576037"
            ]
          },
          "metadata": {
            "tags": []
          }
        },
        {
          "output_type": "stream",
          "text": [
            "[1] \"----------------F1_Score-------------------\"\n"
          ],
          "name": "stdout"
        },
        {
          "output_type": "display_data",
          "data": {
            "text/plain": [
              "[1] 0.971632"
            ],
            "text/latex": "0.971632047477745",
            "text/markdown": "0.971632047477745",
            "text/html": [
              "0.971632047477745"
            ]
          },
          "metadata": {
            "tags": []
          }
        }
      ]
    },
    {
      "cell_type": "code",
      "metadata": {
        "id": "JFtf3EebtPp7"
      },
      "source": [
        "#Convert predictions factor to numeric\n",
        "predictionsCFT=as.numeric(as.character(predictionsCFT))"
      ],
      "execution_count": null,
      "outputs": []
    },
    {
      "cell_type": "code",
      "metadata": {
        "id": "2W_zxVD0tZYS",
        "colab": {
          "base_uri": "https://localhost:8080/",
          "height": 590
        },
        "outputId": "2635345f-6d83-49d2-abce-1c01083784b7"
      },
      "source": [
        "#Area under curve\n",
        "auc(validate$stroke,predictionsCFT)   \n",
        "\n",
        "plot(roc(validate$stroke,predictionsCFT))  #Roc plot"
      ],
      "execution_count": null,
      "outputs": [
        {
          "output_type": "stream",
          "text": [
            "Setting levels: control = 0, case = 1\n",
            "\n",
            "Setting direction: controls < cases\n",
            "\n"
          ],
          "name": "stderr"
        },
        {
          "output_type": "display_data",
          "data": {
            "text/plain": [
              "Area under the curve: 0.5342"
            ],
            "text/latex": "0.534193892045455",
            "text/markdown": "0.534193892045455",
            "text/html": [
              "0.534193892045455"
            ]
          },
          "metadata": {
            "tags": []
          }
        },
        {
          "output_type": "stream",
          "text": [
            "Setting levels: control = 0, case = 1\n",
            "\n",
            "Setting direction: controls < cases\n",
            "\n"
          ],
          "name": "stderr"
        },
        {
          "output_type": "display_data",
          "data": {
            "image/png": "[encoded data removed]",
            "text/plain": [
              "plot without title"
            ]
          },
          "metadata": {
            "tags": [],
            "image/png": {
              "width": 420,
              "height": 420
            },
            "text/plain": {
              "width": 420,
              "height": 420
            }
          }
        }
      ]
    },
    {
      "cell_type": "markdown",
      "metadata": {
        "id": "JaQVxYnp6WhC"
      },
      "source": [
        "__In classification tree model, accuracy and F1_score on training data  and test data is very good. But the problem is that in Area Under Curve(AUC) is low as prediction of 1's is not good in the testing data(unseen data). So, this model is not performing good as we can see.__"
      ]
    },
    {
      "cell_type": "markdown",
      "metadata": {
        "id": "zUknsNVT0hsq"
      },
      "source": [
        "__-----------------------------Training a Random Forest Model-----------------------------__"
      ]
    },
    {
      "cell_type": "code",
      "metadata": {
        "id": "6NBEc0Iwti6K"
      },
      "source": [
        "library(randomForest)\n",
        "RF=randomForest(stroke~., data=over_train, num.trees=1000,max.depth=10)"
      ],
      "execution_count": null,
      "outputs": []
    },
    {
      "cell_type": "markdown",
      "metadata": {
        "id": "ANlHTIp508-N"
      },
      "source": [
        "__-----------------------------Evaluation Model on Train Data-----------------------------__"
      ]
    },
    {
      "cell_type": "code",
      "metadata": {
        "id": "nSw4-vt4WByc"
      },
      "source": [
        "#Predicting on Train data\n",
        "pRF = predict(RF, over_train,type=\"class\")"
      ],
      "execution_count": null,
      "outputs": []
    },
    {
      "cell_type": "code",
      "metadata": {
        "id": "nWBCnYyQWCEx",
        "colab": {
          "base_uri": "https://localhost:8080/",
          "height": 153
        },
        "outputId": "9aeeef92-102a-4adf-d749-2acd36939a79"
      },
      "source": [
        "#Confusion Matrix, Accuracy and F1_score of the train data\n",
        "table(over_train$stroke,pRF)\n",
        "print('--------------Accuracy-----------------')\n",
        "Accuracy(pRF,over_train$stroke)\n",
        "print('---------------F1_score----------------')\n",
        "F1_Score(pRF,over_train$stroke)"
      ],
      "execution_count": null,
      "outputs": [
        {
          "output_type": "display_data",
          "data": {
            "text/plain": [
              "   pRF\n",
              "        0     1\n",
              "  0 29756    61\n",
              "  1     0 29817"
            ]
          },
          "metadata": {
            "tags": []
          }
        },
        {
          "output_type": "stream",
          "text": [
            "[1] \"--------------Accuracy-----------------\"\n"
          ],
          "name": "stdout"
        },
        {
          "output_type": "display_data",
          "data": {
            "text/plain": [
              "[1] 0.9989771"
            ],
            "text/latex": "0.99897709360432",
            "text/markdown": "0.99897709360432",
            "text/html": [
              "0.99897709360432"
            ]
          },
          "metadata": {
            "tags": []
          }
        },
        {
          "output_type": "stream",
          "text": [
            "[1] \"---------------F1_score----------------\"\n"
          ],
          "name": "stdout"
        },
        {
          "output_type": "display_data",
          "data": {
            "text/plain": [
              "[1] 0.998976"
            ],
            "text/latex": "0.998976046195424",
            "text/markdown": "0.998976046195424",
            "text/html": [
              "0.998976046195424"
            ]
          },
          "metadata": {
            "tags": []
          }
        }
      ]
    },
    {
      "cell_type": "code",
      "metadata": {
        "id": "OdCPBqloWM-5"
      },
      "source": [
        ""
      ],
      "execution_count": null,
      "outputs": []
    },
    {
      "cell_type": "markdown",
      "metadata": {
        "id": "31PsSCf71Gk8"
      },
      "source": [
        "__-----------------------------Evaluation Model on Test Data-----------------------------__"
      ]
    },
    {
      "cell_type": "code",
      "metadata": {
        "id": "PicEKEyOtuY8"
      },
      "source": [
        "#Predicting on Test data\n",
        "predictionsRF = predict(RF, validate,type=\"class\")"
      ],
      "execution_count": null,
      "outputs": []
    },
    {
      "cell_type": "code",
      "metadata": {
        "id": "6f4JzAqpt2Ky",
        "colab": {
          "base_uri": "https://localhost:8080/",
          "height": 153
        },
        "outputId": "10a20590-6ae0-4492-8e02-b793d9fc224a"
      },
      "source": [
        "#Confusion Matrix, Accuracy and F1_score of the test data\n",
        "\n",
        "table(validate$stroke,predictionsRF)\n",
        "print('--------------Accuracy-----------------')\n",
        "Accuracy(predictionsRF,validate$stroke)\n",
        "print('---------------F1_score----------------')\n",
        "F1_Score(predictionsRF,validate$stroke)"
      ],
      "execution_count": null,
      "outputs": [
        {
          "output_type": "display_data",
          "data": {
            "text/plain": [
              "   predictionsRF\n",
              "        0     1\n",
              "  0 12684   116\n",
              "  1   213     7"
            ]
          },
          "metadata": {
            "tags": []
          }
        },
        {
          "output_type": "stream",
          "text": [
            "[1] \"--------------Accuracy-----------------\"\n"
          ],
          "name": "stdout"
        },
        {
          "output_type": "display_data",
          "data": {
            "text/plain": [
              "[1] 0.9747312"
            ],
            "text/latex": "0.974731182795699",
            "text/markdown": "0.974731182795699",
            "text/html": [
              "0.974731182795699"
            ]
          },
          "metadata": {
            "tags": []
          }
        },
        {
          "output_type": "stream",
          "text": [
            "[1] \"---------------F1_score----------------\"\n"
          ],
          "name": "stdout"
        },
        {
          "output_type": "display_data",
          "data": {
            "text/plain": [
              "[1] 0.9871969"
            ],
            "text/latex": "0.987196949060202",
            "text/markdown": "0.987196949060202",
            "text/html": [
              "0.987196949060202"
            ]
          },
          "metadata": {
            "tags": []
          }
        }
      ]
    },
    {
      "cell_type": "code",
      "metadata": {
        "id": "szSQOiqqt9Kw"
      },
      "source": [
        "#Convert predictions factor to numeric\n",
        "predictionsRF=as.numeric(as.character(predictionsRF))"
      ],
      "execution_count": null,
      "outputs": []
    },
    {
      "cell_type": "code",
      "metadata": {
        "id": "AjImQWYUuDsQ",
        "colab": {
          "base_uri": "https://localhost:8080/",
          "height": 590
        },
        "outputId": "533278df-44a3-46f6-b576-fba1b810b275"
      },
      "source": [
        "#Area under curve\n",
        "auc(validate$stroke,predictionsRF) \n",
        "plot(roc(validate$stroke,predictionsRF))  #Roc plot"
      ],
      "execution_count": null,
      "outputs": [
        {
          "output_type": "stream",
          "text": [
            "Setting levels: control = 0, case = 1\n",
            "\n",
            "Setting direction: controls < cases\n",
            "\n"
          ],
          "name": "stderr"
        },
        {
          "output_type": "display_data",
          "data": {
            "text/plain": [
              "Area under the curve: 0.5114"
            ],
            "text/latex": "0.511377840909091",
            "text/markdown": "0.511377840909091",
            "text/html": [
              "0.511377840909091"
            ]
          },
          "metadata": {
            "tags": []
          }
        },
        {
          "output_type": "stream",
          "text": [
            "Setting levels: control = 0, case = 1\n",
            "\n",
            "Setting direction: controls < cases\n",
            "\n"
          ],
          "name": "stderr"
        },
        {
          "output_type": "display_data",
          "data": {
            "image/png": "[encoded data removed]",
            "text/plain": [
              "plot without title"
            ]
          },
          "metadata": {
            "tags": [],
            "image/png": {
              "width": 420,
              "height": 420
            },
            "text/plain": {
              "width": 420,
              "height": 420
            }
          }
        }
      ]
    },
    {
      "cell_type": "markdown",
      "metadata": {
        "id": "1Z0BkBv57XNZ"
      },
      "source": [
        "__In this Random Forest model, accuracy and F1_score on training and testing data is very high. But again, this model fails to perform good on test data(unseen data) as it doesn't predict 1's and almost predicted all of them wrong resulting in low AUC.__"
      ]
    },
    {
      "cell_type": "markdown",
      "metadata": {
        "id": "KcRdPybQ2H_5"
      },
      "source": [
        "__-----------------------------Training a SVM model-----------------------------__"
      ]
    },
    {
      "cell_type": "code",
      "metadata": {
        "id": "8WNx_uXI0JiK"
      },
      "source": [
        "library(e1071)\n",
        "SVM <-svm(stroke~., data=over_train)"
      ],
      "execution_count": null,
      "outputs": []
    },
    {
      "cell_type": "markdown",
      "metadata": {
        "id": "p1Yo91nn2dW9"
      },
      "source": [
        "__-----------------------------Evaluation Model on Train Data-----------------------------__"
      ]
    },
    {
      "cell_type": "code",
      "metadata": {
        "id": "gFgFRmC_XV1G"
      },
      "source": [
        "#Predicting on Train data\n",
        "pSVM = predict(SVM, over_train,type=\"class\")"
      ],
      "execution_count": null,
      "outputs": []
    },
    {
      "cell_type": "code",
      "metadata": {
        "id": "WjOuL0VNXV_l",
        "colab": {
          "base_uri": "https://localhost:8080/",
          "height": 153
        },
        "outputId": "454715b6-2a7d-4de9-c1a5-02741e7d86ee"
      },
      "source": [
        "#Confusion Matrix, Accuracy and F1_score of the train data\n",
        "\n",
        "table(over_train$stroke,pSVM)\n",
        "print('--------------Accuracy-----------------')\n",
        "Accuracy(pSVM,over_train$stroke)\n",
        "print('---------------F1_score----------------')\n",
        "F1_Score(pSVM,over_train$stroke)"
      ],
      "execution_count": null,
      "outputs": [
        {
          "output_type": "display_data",
          "data": {
            "text/plain": [
              "   pSVM\n",
              "        0     1\n",
              "  0 22260  7557\n",
              "  1  3849 25968"
            ]
          },
          "metadata": {
            "tags": []
          }
        },
        {
          "output_type": "stream",
          "text": [
            "[1] \"--------------Accuracy-----------------\"\n"
          ],
          "name": "stdout"
        },
        {
          "output_type": "display_data",
          "data": {
            "text/plain": [
              "[1] 0.8087333"
            ],
            "text/latex": "0.808733272965087",
            "text/markdown": "0.808733272965087",
            "text/html": [
              "0.808733272965087"
            ]
          },
          "metadata": {
            "tags": []
          }
        },
        {
          "output_type": "stream",
          "text": [
            "[1] \"---------------F1_score----------------\"\n"
          ],
          "name": "stdout"
        },
        {
          "output_type": "display_data",
          "data": {
            "text/plain": [
              "[1] 0.7960519"
            ],
            "text/latex": "0.796051925759039",
            "text/markdown": "0.796051925759039",
            "text/html": [
              "0.796051925759039"
            ]
          },
          "metadata": {
            "tags": []
          }
        }
      ]
    },
    {
      "cell_type": "markdown",
      "metadata": {
        "id": "tlxyvCCQ2fUK"
      },
      "source": [
        "__-----------------------------Evaluation Model on Test Data-----------------------------__"
      ]
    },
    {
      "cell_type": "code",
      "metadata": {
        "id": "sJN1KsBx0iCW"
      },
      "source": [
        "#Predicting on Test data\n",
        "predictionsSVM = predict(SVM, validate,type=\"class\")  "
      ],
      "execution_count": null,
      "outputs": []
    },
    {
      "cell_type": "code",
      "metadata": {
        "id": "u8aOoqmF01r3",
        "colab": {
          "base_uri": "https://localhost:8080/",
          "height": 153
        },
        "outputId": "6dfb7e05-74fc-4c56-bff3-f82aca2a989e"
      },
      "source": [
        "#Confusion Matrix, Accuracy and F1_score of the test data\n",
        "table(validate$stroke,predictionsSVM)\n",
        "print('--------------Accuracy-----------------')\n",
        "Accuracy(predictionsSVM,validate$stroke)\n",
        "print('---------------F1_score----------------')\n",
        "F1_Score(predictionsSVM,validate$stroke)"
      ],
      "execution_count": null,
      "outputs": [
        {
          "output_type": "display_data",
          "data": {
            "text/plain": [
              "   predictionsSVM\n",
              "       0    1\n",
              "  0 9683 3117\n",
              "  1   49  171"
            ]
          },
          "metadata": {
            "tags": []
          }
        },
        {
          "output_type": "stream",
          "text": [
            "[1] \"--------------Accuracy-----------------\"\n"
          ],
          "name": "stdout"
        },
        {
          "output_type": "display_data",
          "data": {
            "text/plain": [
              "[1] 0.7568356"
            ],
            "text/latex": "0.756835637480799",
            "text/markdown": "0.756835637480799",
            "text/html": [
              "0.756835637480799"
            ]
          },
          "metadata": {
            "tags": []
          }
        },
        {
          "output_type": "stream",
          "text": [
            "[1] \"---------------F1_score----------------\"\n"
          ],
          "name": "stdout"
        },
        {
          "output_type": "display_data",
          "data": {
            "text/plain": [
              "[1] 0.8594887"
            ],
            "text/latex": "0.859488727143618",
            "text/markdown": "0.859488727143618",
            "text/html": [
              "0.859488727143618"
            ]
          },
          "metadata": {
            "tags": []
          }
        }
      ]
    },
    {
      "cell_type": "code",
      "metadata": {
        "id": "ew22jcAn1XZz"
      },
      "source": [
        "#Convert predictions factor to numeric\n",
        "predictionsSVM=as.numeric(as.character(predictionsSVM))"
      ],
      "execution_count": null,
      "outputs": []
    },
    {
      "cell_type": "code",
      "metadata": {
        "id": "Vwvpbatf1bN0",
        "colab": {
          "base_uri": "https://localhost:8080/",
          "height": 590
        },
        "outputId": "e1524e84-74bd-4e0e-e5f2-86a403ba79bd"
      },
      "source": [
        "#Area under curve\n",
        "auc(validate$stroke,predictionsSVM) \n",
        "plot(roc(validate$stroke,predictionsSVM))  #Roc plot"
      ],
      "execution_count": null,
      "outputs": [
        {
          "output_type": "stream",
          "text": [
            "Setting levels: control = 0, case = 1\n",
            "\n",
            "Setting direction: controls < cases\n",
            "\n"
          ],
          "name": "stderr"
        },
        {
          "output_type": "display_data",
          "data": {
            "text/plain": [
              "Area under the curve: 0.7669"
            ],
            "text/latex": "0.766878551136364",
            "text/markdown": "0.766878551136364",
            "text/html": [
              "0.766878551136364"
            ]
          },
          "metadata": {
            "tags": []
          }
        },
        {
          "output_type": "stream",
          "text": [
            "Setting levels: control = 0, case = 1\n",
            "\n",
            "Setting direction: controls < cases\n",
            "\n"
          ],
          "name": "stderr"
        },
        {
          "output_type": "display_data",
          "data": {
            "image/png": "[encoded data removed]",
            "text/plain": [
              "plot without title"
            ]
          },
          "metadata": {
            "tags": [],
            "image/png": {
              "width": 420,
              "height": 420
            },
            "text/plain": {
              "width": 420,
              "height": 420
            }
          }
        }
      ]
    },
    {
      "cell_type": "markdown",
      "metadata": {
        "id": "0un-nS0H8Bz9"
      },
      "source": [
        "__In this SVM model, accuracy and F1-score on training and testing data is not that good as its below 85%. This model predicts the 1's better than other models we saw and AUC is also moderately good but it is also making large amount of wrong predictions of 0's. So, we cannot rely much on this model.__"
      ]
    },
    {
      "cell_type": "markdown",
      "metadata": {
        "id": "5rOP287V2Nnu"
      },
      "source": [
        "__-----------------------------Training a XGBoost model-----------------------------__"
      ]
    },
    {
      "cell_type": "code",
      "metadata": {
        "id": "8dTjcnQ43pS8"
      },
      "source": [
        "XGB<- train(stroke~., data = over_train, method = \"xgbTree\",verbose = FALSE)"
      ],
      "execution_count": null,
      "outputs": []
    },
    {
      "cell_type": "markdown",
      "metadata": {
        "id": "McoB5OfX2j9c"
      },
      "source": [
        "__-----------------------------Evaluation Model on Train Data-----------------------------__"
      ]
    },
    {
      "cell_type": "code",
      "metadata": {
        "id": "bdWe0h8NYdNM"
      },
      "source": [
        "#Predicting on Train data\n",
        "pXGB = predict(XGB, over_train,type=\"raw\")"
      ],
      "execution_count": null,
      "outputs": []
    },
    {
      "cell_type": "code",
      "metadata": {
        "id": "r63S3OTOYdW3",
        "colab": {
          "base_uri": "https://localhost:8080/",
          "height": 153
        },
        "outputId": "da285fbd-fd3d-4d30-9dab-b6b0463cf073"
      },
      "source": [
        "#Confusion Matrix, Accuracy and F1_score of the train data\n",
        "\n",
        "table(over_train$stroke,pXGB)\n",
        "print('--------------Accuracy-----------------')\n",
        "Accuracy(pXGB,over_train$stroke)\n",
        "print('---------------F1_score----------------')\n",
        "F1_Score(pXGB,over_train$stroke)"
      ],
      "execution_count": null,
      "outputs": [
        {
          "output_type": "display_data",
          "data": {
            "text/plain": [
              "   pXGB\n",
              "        0     1\n",
              "  0 25748  4069\n",
              "  1   495 29322"
            ]
          },
          "metadata": {
            "tags": []
          }
        },
        {
          "output_type": "stream",
          "text": [
            "[1] \"--------------Accuracy-----------------\"\n"
          ],
          "name": "stdout"
        },
        {
          "output_type": "display_data",
          "data": {
            "text/plain": [
              "[1] 0.9234665"
            ],
            "text/latex": "0.923466478854345",
            "text/markdown": "0.923466478854345",
            "text/html": [
              "0.923466478854345"
            ]
          },
          "metadata": {
            "tags": []
          }
        },
        {
          "output_type": "stream",
          "text": [
            "[1] \"---------------F1_score----------------\"\n"
          ],
          "name": "stdout"
        },
        {
          "output_type": "display_data",
          "data": {
            "text/plain": [
              "[1] 0.9185872"
            ],
            "text/latex": "0.918587227970032",
            "text/markdown": "0.918587227970032",
            "text/html": [
              "0.918587227970032"
            ]
          },
          "metadata": {
            "tags": []
          }
        }
      ]
    },
    {
      "cell_type": "markdown",
      "metadata": {
        "id": "Sd42aoL52mbZ"
      },
      "source": [
        "__-----------------------------Evaluation Model on Test Data-----------------------------__"
      ]
    },
    {
      "cell_type": "code",
      "metadata": {
        "id": "l93PruVL4Yox"
      },
      "source": [
        "#Predicting on Test data\n",
        "predictionsXGB = predict(XGB, validate,type=\"raw\")  "
      ],
      "execution_count": null,
      "outputs": []
    },
    {
      "cell_type": "code",
      "metadata": {
        "id": "yjHjft4I4vnZ",
        "colab": {
          "base_uri": "https://localhost:8080/",
          "height": 153
        },
        "outputId": "08875dfb-ab3f-43ed-90f1-9ed362019e35"
      },
      "source": [
        "#Confusion Matrix, Accuracy and F1_score of the test data\n",
        "table(validate$stroke,predictionsXGB)\n",
        "print('--------------Accuracy-----------------')\n",
        "Accuracy(predictionsXGB,validate$stroke)\n",
        "print('---------------F1_score----------------')\n",
        "F1_Score(predictionsXGB,validate$stroke)"
      ],
      "execution_count": null,
      "outputs": [
        {
          "output_type": "display_data",
          "data": {
            "text/plain": [
              "   predictionsXGB\n",
              "        0     1\n",
              "  0 10944  1856\n",
              "  1    85   135"
            ]
          },
          "metadata": {
            "tags": []
          }
        },
        {
          "output_type": "stream",
          "text": [
            "[1] \"--------------Accuracy-----------------\"\n"
          ],
          "name": "stdout"
        },
        {
          "output_type": "display_data",
          "data": {
            "text/plain": [
              "[1] 0.8509217"
            ],
            "text/latex": "0.850921658986175",
            "text/markdown": "0.850921658986175",
            "text/html": [
              "0.850921658986175"
            ]
          },
          "metadata": {
            "tags": []
          }
        },
        {
          "output_type": "stream",
          "text": [
            "[1] \"---------------F1_score----------------\"\n"
          ],
          "name": "stdout"
        },
        {
          "output_type": "display_data",
          "data": {
            "text/plain": [
              "[1] 0.9185446"
            ],
            "text/latex": "0.918544630492257",
            "text/markdown": "0.918544630492257",
            "text/html": [
              "0.918544630492257"
            ]
          },
          "metadata": {
            "tags": []
          }
        }
      ]
    },
    {
      "cell_type": "code",
      "metadata": {
        "id": "7PheiYOa5CGt"
      },
      "source": [
        "#Convert predictions factor to numeric\n",
        "predictionsXGB=as.numeric(as.character(predictionsXGB))"
      ],
      "execution_count": null,
      "outputs": []
    },
    {
      "cell_type": "code",
      "metadata": {
        "id": "nRR3vX9i5RIc",
        "colab": {
          "base_uri": "https://localhost:8080/",
          "height": 590
        },
        "outputId": "c6b38484-717c-48cf-dce5-8557094b473d"
      },
      "source": [
        "#Area under curve\n",
        "auc(validate$stroke,predictionsXGB) \n",
        "plot(roc(validate$stroke,predictionsXGB))  #Roc plot"
      ],
      "execution_count": null,
      "outputs": [
        {
          "output_type": "stream",
          "text": [
            "Setting levels: control = 0, case = 1\n",
            "\n",
            "Setting direction: controls < cases\n",
            "\n"
          ],
          "name": "stderr"
        },
        {
          "output_type": "display_data",
          "data": {
            "text/plain": [
              "Area under the curve: 0.7343"
            ],
            "text/latex": "0.734318181818182",
            "text/markdown": "0.734318181818182",
            "text/html": [
              "0.734318181818182"
            ]
          },
          "metadata": {
            "tags": []
          }
        },
        {
          "output_type": "stream",
          "text": [
            "Setting levels: control = 0, case = 1\n",
            "\n",
            "Setting direction: controls < cases\n",
            "\n"
          ],
          "name": "stderr"
        },
        {
          "output_type": "display_data",
          "data": {
            "image/png": "[encoded data removed]",
            "text/plain": [
              "plot without title"
            ]
          },
          "metadata": {
            "tags": [],
            "image/png": {
              "width": 420,
              "height": 420
            },
            "text/plain": {
              "width": 420,
              "height": 420
            }
          }
        }
      ]
    },
    {
      "cell_type": "markdown",
      "metadata": {
        "id": "Z2CaNdSU9rAf"
      },
      "source": [
        "__In this XGBoost model, accuracy and F1-score on training and testing data is above 85% and is good. AUC is also moderately good of this model.  Prediction of 1's is some what good and 0's is  also good but wrong predictions are also present.__"
      ]
    },
    {
      "cell_type": "markdown",
      "metadata": {
        "id": "ygTOEOnG-i_C"
      },
      "source": [
        "__-----------------------------------------------------------Conclusion-----------------------------------------------------------__"
      ]
    },
    {
      "cell_type": "markdown",
      "metadata": {
        "id": "lM8MzAAc-wQr"
      },
      "source": [
        "__From the above observation, we can conclude that XGBoost model is performing better than other models as it is better in predicting 1's in test data(unseen data) than other models and also AUC of this model is better than other models.__"
      ]
    }
  ]
}